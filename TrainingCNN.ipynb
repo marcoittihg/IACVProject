{
 "cells": [
  {
   "cell_type": "code",
   "execution_count": 1,
   "metadata": {},
   "outputs": [],
   "source": [
    "import numpy as np\n",
    "import pandas as pd\n",
    "import cv2"
   ]
  },
  {
   "cell_type": "code",
   "execution_count": 2,
   "metadata": {},
   "outputs": [],
   "source": [
    "seed = 1234"
   ]
  },
  {
   "cell_type": "markdown",
   "metadata": {},
   "source": [
    "# Load images and feature extraction"
   ]
  },
  {
   "cell_type": "code",
   "execution_count": 3,
   "metadata": {},
   "outputs": [],
   "source": [
    "import glob"
   ]
  },
  {
   "cell_type": "code",
   "execution_count": 4,
   "metadata": {},
   "outputs": [
    {
     "name": "stdout",
     "output_type": "stream",
     "text": [
      "Double:  471\n",
      "Envelope:  879\n",
      "Other:  58\n",
      "Parcel:  702\n",
      "Tot:  2052\n"
     ]
    }
   ],
   "source": [
    "doubleFiles = np.array(glob.glob(\"./DATASET/DOUBLE/*.dat\"))\n",
    "envelopeFiles = np.array(glob.glob(\"./DATASET/ENVELOPE/*.dat\"))\n",
    "otherFiles = np.array(glob.glob(\"./DATASET/OTHER/*.dat\"))\n",
    "parcelFiles = np.array(glob.glob(\"./DATASET/PARCEL/*.dat\"))\n",
    "\n",
    "allFiles = np.concatenate((doubleFiles, envelopeFiles, parcelFiles));\n",
    "\n",
    "print(\"Double: \",doubleFiles.size)\n",
    "print(\"Envelope: \",envelopeFiles.size)\n",
    "print(\"Other: \",otherFiles.size)\n",
    "print(\"Parcel: \",parcelFiles.size)\n",
    "print(\"Tot: \",allFiles.size)"
   ]
  },
  {
   "cell_type": "code",
   "execution_count": 5,
   "metadata": {},
   "outputs": [],
   "source": [
    "def preprocessImage(imgPath):\n",
    "    return cv2.resize(np.loadtxt(imgPath), dsize = (50,50)).flatten();\n",
    "    \n",
    "    "
   ]
  },
  {
   "cell_type": "code",
   "execution_count": 6,
   "metadata": {},
   "outputs": [
    {
     "name": "stdout",
     "output_type": "stream",
     "text": [
      "2052 / 2052\r"
     ]
    }
   ],
   "source": [
    "imgSize = 50;\n",
    "\n",
    "nImages = allFiles.shape[0];\n",
    "images = np.empty((nImages, imgSize*imgSize+3));\n",
    "\n",
    "index = 1;\n",
    "for fileName in doubleFiles:\n",
    "    img = preprocessImage(fileName)\n",
    "    images[index-1] = np.concatenate((img, np.array([1.0, 0.0, 0.0])))\n",
    "    print(index,\"/\",nImages,end=\"\\r\");\n",
    "    index +=1;\n",
    "    \n",
    "for fileName in envelopeFiles:\n",
    "    img = preprocessImage(fileName)\n",
    "    images[index-1] = np.concatenate((img, np.array([0.0, 1.0, 0.0])))\n",
    "    print(index,\"/\",nImages,end=\"\\r\");\n",
    "    index +=1;\n",
    "    \n",
    "for fileName in parcelFiles:\n",
    "    img = preprocessImage(fileName)\n",
    "    images[index-1] = np.concatenate((img, np.array([0.0, 0.0, 1.0])))\n",
    "    print(index,\"/\",nImages,end=\"\\r\");\n",
    "    index +=1;"
   ]
  },
  {
   "cell_type": "code",
   "execution_count": 7,
   "metadata": {},
   "outputs": [
    {
     "data": {
      "text/html": [
       "<div>\n",
       "<style scoped>\n",
       "    .dataframe tbody tr th:only-of-type {\n",
       "        vertical-align: middle;\n",
       "    }\n",
       "\n",
       "    .dataframe tbody tr th {\n",
       "        vertical-align: top;\n",
       "    }\n",
       "\n",
       "    .dataframe thead th {\n",
       "        text-align: right;\n",
       "    }\n",
       "</style>\n",
       "<table border=\"1\" class=\"dataframe\">\n",
       "  <thead>\n",
       "    <tr style=\"text-align: right;\">\n",
       "      <th></th>\n",
       "      <th>0</th>\n",
       "      <th>1</th>\n",
       "      <th>2</th>\n",
       "      <th>3</th>\n",
       "      <th>4</th>\n",
       "      <th>5</th>\n",
       "      <th>6</th>\n",
       "      <th>7</th>\n",
       "      <th>8</th>\n",
       "      <th>9</th>\n",
       "      <th>...</th>\n",
       "      <th>2493</th>\n",
       "      <th>2494</th>\n",
       "      <th>2495</th>\n",
       "      <th>2496</th>\n",
       "      <th>2497</th>\n",
       "      <th>2498</th>\n",
       "      <th>2499</th>\n",
       "      <th>2500</th>\n",
       "      <th>2501</th>\n",
       "      <th>2502</th>\n",
       "    </tr>\n",
       "  </thead>\n",
       "  <tbody>\n",
       "    <tr>\n",
       "      <td>0</td>\n",
       "      <td>0.0</td>\n",
       "      <td>0.0</td>\n",
       "      <td>0.0</td>\n",
       "      <td>0.0</td>\n",
       "      <td>0.0</td>\n",
       "      <td>0.0</td>\n",
       "      <td>0.0</td>\n",
       "      <td>0.0</td>\n",
       "      <td>0.0</td>\n",
       "      <td>0.0</td>\n",
       "      <td>...</td>\n",
       "      <td>0.000000</td>\n",
       "      <td>0.000000</td>\n",
       "      <td>0.000000</td>\n",
       "      <td>0.000000</td>\n",
       "      <td>0.000000</td>\n",
       "      <td>0.000000</td>\n",
       "      <td>0.000000</td>\n",
       "      <td>1.0</td>\n",
       "      <td>0.0</td>\n",
       "      <td>0.0</td>\n",
       "    </tr>\n",
       "    <tr>\n",
       "      <td>1</td>\n",
       "      <td>0.0</td>\n",
       "      <td>0.0</td>\n",
       "      <td>0.0</td>\n",
       "      <td>0.0</td>\n",
       "      <td>0.0</td>\n",
       "      <td>0.0</td>\n",
       "      <td>0.0</td>\n",
       "      <td>0.0</td>\n",
       "      <td>0.0</td>\n",
       "      <td>0.0</td>\n",
       "      <td>...</td>\n",
       "      <td>0.000862</td>\n",
       "      <td>0.001636</td>\n",
       "      <td>0.017129</td>\n",
       "      <td>0.017378</td>\n",
       "      <td>0.040854</td>\n",
       "      <td>0.048695</td>\n",
       "      <td>0.035634</td>\n",
       "      <td>1.0</td>\n",
       "      <td>0.0</td>\n",
       "      <td>0.0</td>\n",
       "    </tr>\n",
       "    <tr>\n",
       "      <td>2</td>\n",
       "      <td>0.0</td>\n",
       "      <td>0.0</td>\n",
       "      <td>0.0</td>\n",
       "      <td>0.0</td>\n",
       "      <td>0.0</td>\n",
       "      <td>0.0</td>\n",
       "      <td>0.0</td>\n",
       "      <td>0.0</td>\n",
       "      <td>0.0</td>\n",
       "      <td>0.0</td>\n",
       "      <td>...</td>\n",
       "      <td>0.000000</td>\n",
       "      <td>0.000000</td>\n",
       "      <td>0.000000</td>\n",
       "      <td>0.000000</td>\n",
       "      <td>0.000000</td>\n",
       "      <td>0.000000</td>\n",
       "      <td>0.000000</td>\n",
       "      <td>1.0</td>\n",
       "      <td>0.0</td>\n",
       "      <td>0.0</td>\n",
       "    </tr>\n",
       "    <tr>\n",
       "      <td>3</td>\n",
       "      <td>0.0</td>\n",
       "      <td>0.0</td>\n",
       "      <td>0.0</td>\n",
       "      <td>0.0</td>\n",
       "      <td>0.0</td>\n",
       "      <td>0.0</td>\n",
       "      <td>0.0</td>\n",
       "      <td>0.0</td>\n",
       "      <td>0.0</td>\n",
       "      <td>0.0</td>\n",
       "      <td>...</td>\n",
       "      <td>0.000000</td>\n",
       "      <td>0.000000</td>\n",
       "      <td>0.000000</td>\n",
       "      <td>0.000000</td>\n",
       "      <td>0.000000</td>\n",
       "      <td>0.000000</td>\n",
       "      <td>0.000000</td>\n",
       "      <td>0.0</td>\n",
       "      <td>1.0</td>\n",
       "      <td>0.0</td>\n",
       "    </tr>\n",
       "    <tr>\n",
       "      <td>4</td>\n",
       "      <td>0.0</td>\n",
       "      <td>0.0</td>\n",
       "      <td>0.0</td>\n",
       "      <td>0.0</td>\n",
       "      <td>0.0</td>\n",
       "      <td>0.0</td>\n",
       "      <td>0.0</td>\n",
       "      <td>0.0</td>\n",
       "      <td>0.0</td>\n",
       "      <td>0.0</td>\n",
       "      <td>...</td>\n",
       "      <td>0.000000</td>\n",
       "      <td>0.000000</td>\n",
       "      <td>0.000000</td>\n",
       "      <td>0.000000</td>\n",
       "      <td>0.000000</td>\n",
       "      <td>0.000000</td>\n",
       "      <td>0.000000</td>\n",
       "      <td>0.0</td>\n",
       "      <td>0.0</td>\n",
       "      <td>1.0</td>\n",
       "    </tr>\n",
       "  </tbody>\n",
       "</table>\n",
       "<p>5 rows × 2503 columns</p>\n",
       "</div>"
      ],
      "text/plain": [
       "   0     1     2     3     4     5     6     7     8     9     ...      2493  \\\n",
       "0   0.0   0.0   0.0   0.0   0.0   0.0   0.0   0.0   0.0   0.0  ...  0.000000   \n",
       "1   0.0   0.0   0.0   0.0   0.0   0.0   0.0   0.0   0.0   0.0  ...  0.000862   \n",
       "2   0.0   0.0   0.0   0.0   0.0   0.0   0.0   0.0   0.0   0.0  ...  0.000000   \n",
       "3   0.0   0.0   0.0   0.0   0.0   0.0   0.0   0.0   0.0   0.0  ...  0.000000   \n",
       "4   0.0   0.0   0.0   0.0   0.0   0.0   0.0   0.0   0.0   0.0  ...  0.000000   \n",
       "\n",
       "       2494      2495      2496      2497      2498      2499  2500  2501  \\\n",
       "0  0.000000  0.000000  0.000000  0.000000  0.000000  0.000000   1.0   0.0   \n",
       "1  0.001636  0.017129  0.017378  0.040854  0.048695  0.035634   1.0   0.0   \n",
       "2  0.000000  0.000000  0.000000  0.000000  0.000000  0.000000   1.0   0.0   \n",
       "3  0.000000  0.000000  0.000000  0.000000  0.000000  0.000000   0.0   1.0   \n",
       "4  0.000000  0.000000  0.000000  0.000000  0.000000  0.000000   0.0   0.0   \n",
       "\n",
       "   2502  \n",
       "0   0.0  \n",
       "1   0.0  \n",
       "2   0.0  \n",
       "3   0.0  \n",
       "4   1.0  \n",
       "\n",
       "[5 rows x 2503 columns]"
      ]
     },
     "execution_count": 7,
     "metadata": {},
     "output_type": "execute_result"
    }
   ],
   "source": [
    "def getDF():\n",
    "    df = pd.DataFrame(data=images);\n",
    "    \n",
    "    return df;\n",
    "df = getDF()\n",
    "df = df.sample(frac=1, random_state=seed).reset_index(drop=True)\n",
    "df.head()"
   ]
  },
  {
   "cell_type": "code",
   "execution_count": 8,
   "metadata": {},
   "outputs": [],
   "source": [
    "df[2503] = 1*df[2500]+ 2*df[2501]+ 3*df[2502]-1;"
   ]
  },
  {
   "cell_type": "code",
   "execution_count": 9,
   "metadata": {},
   "outputs": [
    {
     "data": {
      "text/html": [
       "<div>\n",
       "<style scoped>\n",
       "    .dataframe tbody tr th:only-of-type {\n",
       "        vertical-align: middle;\n",
       "    }\n",
       "\n",
       "    .dataframe tbody tr th {\n",
       "        vertical-align: top;\n",
       "    }\n",
       "\n",
       "    .dataframe thead th {\n",
       "        text-align: right;\n",
       "    }\n",
       "</style>\n",
       "<table border=\"1\" class=\"dataframe\">\n",
       "  <thead>\n",
       "    <tr style=\"text-align: right;\">\n",
       "      <th></th>\n",
       "      <th>0</th>\n",
       "      <th>1</th>\n",
       "      <th>2</th>\n",
       "      <th>3</th>\n",
       "      <th>4</th>\n",
       "      <th>5</th>\n",
       "      <th>6</th>\n",
       "      <th>7</th>\n",
       "      <th>8</th>\n",
       "      <th>9</th>\n",
       "      <th>...</th>\n",
       "      <th>2491</th>\n",
       "      <th>2492</th>\n",
       "      <th>2493</th>\n",
       "      <th>2494</th>\n",
       "      <th>2495</th>\n",
       "      <th>2496</th>\n",
       "      <th>2497</th>\n",
       "      <th>2498</th>\n",
       "      <th>2499</th>\n",
       "      <th>2500</th>\n",
       "    </tr>\n",
       "  </thead>\n",
       "  <tbody>\n",
       "    <tr>\n",
       "      <td>0</td>\n",
       "      <td>0.0</td>\n",
       "      <td>0.0</td>\n",
       "      <td>0.0</td>\n",
       "      <td>0.0</td>\n",
       "      <td>0.0</td>\n",
       "      <td>0.0</td>\n",
       "      <td>0.0</td>\n",
       "      <td>0.0</td>\n",
       "      <td>0.0</td>\n",
       "      <td>0.0</td>\n",
       "      <td>...</td>\n",
       "      <td>0.000000</td>\n",
       "      <td>0.000000</td>\n",
       "      <td>0.000000</td>\n",
       "      <td>0.000000</td>\n",
       "      <td>0.000000</td>\n",
       "      <td>0.000000</td>\n",
       "      <td>0.000000</td>\n",
       "      <td>0.000000</td>\n",
       "      <td>0.000000</td>\n",
       "      <td>0.0</td>\n",
       "    </tr>\n",
       "    <tr>\n",
       "      <td>1</td>\n",
       "      <td>0.0</td>\n",
       "      <td>0.0</td>\n",
       "      <td>0.0</td>\n",
       "      <td>0.0</td>\n",
       "      <td>0.0</td>\n",
       "      <td>0.0</td>\n",
       "      <td>0.0</td>\n",
       "      <td>0.0</td>\n",
       "      <td>0.0</td>\n",
       "      <td>0.0</td>\n",
       "      <td>...</td>\n",
       "      <td>0.013261</td>\n",
       "      <td>0.012037</td>\n",
       "      <td>0.000862</td>\n",
       "      <td>0.001636</td>\n",
       "      <td>0.017129</td>\n",
       "      <td>0.017378</td>\n",
       "      <td>0.040854</td>\n",
       "      <td>0.048695</td>\n",
       "      <td>0.035634</td>\n",
       "      <td>0.0</td>\n",
       "    </tr>\n",
       "    <tr>\n",
       "      <td>2</td>\n",
       "      <td>0.0</td>\n",
       "      <td>0.0</td>\n",
       "      <td>0.0</td>\n",
       "      <td>0.0</td>\n",
       "      <td>0.0</td>\n",
       "      <td>0.0</td>\n",
       "      <td>0.0</td>\n",
       "      <td>0.0</td>\n",
       "      <td>0.0</td>\n",
       "      <td>0.0</td>\n",
       "      <td>...</td>\n",
       "      <td>0.030154</td>\n",
       "      <td>0.014221</td>\n",
       "      <td>0.000000</td>\n",
       "      <td>0.000000</td>\n",
       "      <td>0.000000</td>\n",
       "      <td>0.000000</td>\n",
       "      <td>0.000000</td>\n",
       "      <td>0.000000</td>\n",
       "      <td>0.000000</td>\n",
       "      <td>0.0</td>\n",
       "    </tr>\n",
       "    <tr>\n",
       "      <td>3</td>\n",
       "      <td>0.0</td>\n",
       "      <td>0.0</td>\n",
       "      <td>0.0</td>\n",
       "      <td>0.0</td>\n",
       "      <td>0.0</td>\n",
       "      <td>0.0</td>\n",
       "      <td>0.0</td>\n",
       "      <td>0.0</td>\n",
       "      <td>0.0</td>\n",
       "      <td>0.0</td>\n",
       "      <td>...</td>\n",
       "      <td>0.000000</td>\n",
       "      <td>0.000000</td>\n",
       "      <td>0.000000</td>\n",
       "      <td>0.000000</td>\n",
       "      <td>0.000000</td>\n",
       "      <td>0.000000</td>\n",
       "      <td>0.000000</td>\n",
       "      <td>0.000000</td>\n",
       "      <td>0.000000</td>\n",
       "      <td>1.0</td>\n",
       "    </tr>\n",
       "    <tr>\n",
       "      <td>4</td>\n",
       "      <td>0.0</td>\n",
       "      <td>0.0</td>\n",
       "      <td>0.0</td>\n",
       "      <td>0.0</td>\n",
       "      <td>0.0</td>\n",
       "      <td>0.0</td>\n",
       "      <td>0.0</td>\n",
       "      <td>0.0</td>\n",
       "      <td>0.0</td>\n",
       "      <td>0.0</td>\n",
       "      <td>...</td>\n",
       "      <td>0.000000</td>\n",
       "      <td>0.000000</td>\n",
       "      <td>0.000000</td>\n",
       "      <td>0.000000</td>\n",
       "      <td>0.000000</td>\n",
       "      <td>0.000000</td>\n",
       "      <td>0.000000</td>\n",
       "      <td>0.000000</td>\n",
       "      <td>0.000000</td>\n",
       "      <td>2.0</td>\n",
       "    </tr>\n",
       "  </tbody>\n",
       "</table>\n",
       "<p>5 rows × 2501 columns</p>\n",
       "</div>"
      ],
      "text/plain": [
       "   0     1     2     3     4     5     6     7     8     9     ...      2491  \\\n",
       "0   0.0   0.0   0.0   0.0   0.0   0.0   0.0   0.0   0.0   0.0  ...  0.000000   \n",
       "1   0.0   0.0   0.0   0.0   0.0   0.0   0.0   0.0   0.0   0.0  ...  0.013261   \n",
       "2   0.0   0.0   0.0   0.0   0.0   0.0   0.0   0.0   0.0   0.0  ...  0.030154   \n",
       "3   0.0   0.0   0.0   0.0   0.0   0.0   0.0   0.0   0.0   0.0  ...  0.000000   \n",
       "4   0.0   0.0   0.0   0.0   0.0   0.0   0.0   0.0   0.0   0.0  ...  0.000000   \n",
       "\n",
       "       2492      2493      2494      2495      2496      2497      2498  \\\n",
       "0  0.000000  0.000000  0.000000  0.000000  0.000000  0.000000  0.000000   \n",
       "1  0.012037  0.000862  0.001636  0.017129  0.017378  0.040854  0.048695   \n",
       "2  0.014221  0.000000  0.000000  0.000000  0.000000  0.000000  0.000000   \n",
       "3  0.000000  0.000000  0.000000  0.000000  0.000000  0.000000  0.000000   \n",
       "4  0.000000  0.000000  0.000000  0.000000  0.000000  0.000000  0.000000   \n",
       "\n",
       "       2499  2500  \n",
       "0  0.000000   0.0  \n",
       "1  0.035634   0.0  \n",
       "2  0.000000   0.0  \n",
       "3  0.000000   1.0  \n",
       "4  0.000000   2.0  \n",
       "\n",
       "[5 rows x 2501 columns]"
      ]
     },
     "execution_count": 9,
     "metadata": {},
     "output_type": "execute_result"
    }
   ],
   "source": [
    "df[2500] = df[2503]\n",
    "df.drop(2503, axis=1, inplace=True)\n",
    "df.drop(2502, axis=1, inplace=True)\n",
    "df.drop(2501, axis=1, inplace=True)\n",
    "df.head()"
   ]
  },
  {
   "cell_type": "code",
   "execution_count": 10,
   "metadata": {},
   "outputs": [
    {
     "data": {
      "text/html": [
       "<div>\n",
       "<style scoped>\n",
       "    .dataframe tbody tr th:only-of-type {\n",
       "        vertical-align: middle;\n",
       "    }\n",
       "\n",
       "    .dataframe tbody tr th {\n",
       "        vertical-align: top;\n",
       "    }\n",
       "\n",
       "    .dataframe thead th {\n",
       "        text-align: right;\n",
       "    }\n",
       "</style>\n",
       "<table border=\"1\" class=\"dataframe\">\n",
       "  <thead>\n",
       "    <tr style=\"text-align: right;\">\n",
       "      <th></th>\n",
       "      <th>0</th>\n",
       "      <th>1</th>\n",
       "      <th>2</th>\n",
       "      <th>3</th>\n",
       "      <th>4</th>\n",
       "      <th>5</th>\n",
       "      <th>6</th>\n",
       "      <th>7</th>\n",
       "      <th>8</th>\n",
       "      <th>9</th>\n",
       "      <th>...</th>\n",
       "      <th>2491</th>\n",
       "      <th>2492</th>\n",
       "      <th>2493</th>\n",
       "      <th>2494</th>\n",
       "      <th>2495</th>\n",
       "      <th>2496</th>\n",
       "      <th>2497</th>\n",
       "      <th>2498</th>\n",
       "      <th>2499</th>\n",
       "      <th>2500</th>\n",
       "    </tr>\n",
       "  </thead>\n",
       "  <tbody>\n",
       "    <tr>\n",
       "      <td>0</td>\n",
       "      <td>0.0</td>\n",
       "      <td>0.0</td>\n",
       "      <td>0.0</td>\n",
       "      <td>0.0</td>\n",
       "      <td>0.0</td>\n",
       "      <td>0.0</td>\n",
       "      <td>0.0</td>\n",
       "      <td>0.0</td>\n",
       "      <td>0.0</td>\n",
       "      <td>0.0</td>\n",
       "      <td>...</td>\n",
       "      <td>0.000000</td>\n",
       "      <td>0.000000</td>\n",
       "      <td>0.000000</td>\n",
       "      <td>0.000000</td>\n",
       "      <td>0.000000</td>\n",
       "      <td>0.000000</td>\n",
       "      <td>0.000000</td>\n",
       "      <td>0.000000</td>\n",
       "      <td>0.000000</td>\n",
       "      <td>0.0</td>\n",
       "    </tr>\n",
       "    <tr>\n",
       "      <td>1</td>\n",
       "      <td>0.0</td>\n",
       "      <td>0.0</td>\n",
       "      <td>0.0</td>\n",
       "      <td>0.0</td>\n",
       "      <td>0.0</td>\n",
       "      <td>0.0</td>\n",
       "      <td>0.0</td>\n",
       "      <td>0.0</td>\n",
       "      <td>0.0</td>\n",
       "      <td>0.0</td>\n",
       "      <td>...</td>\n",
       "      <td>0.013261</td>\n",
       "      <td>0.012037</td>\n",
       "      <td>0.000862</td>\n",
       "      <td>0.001636</td>\n",
       "      <td>0.017129</td>\n",
       "      <td>0.017378</td>\n",
       "      <td>0.040854</td>\n",
       "      <td>0.048695</td>\n",
       "      <td>0.035634</td>\n",
       "      <td>0.0</td>\n",
       "    </tr>\n",
       "    <tr>\n",
       "      <td>2</td>\n",
       "      <td>0.0</td>\n",
       "      <td>0.0</td>\n",
       "      <td>0.0</td>\n",
       "      <td>0.0</td>\n",
       "      <td>0.0</td>\n",
       "      <td>0.0</td>\n",
       "      <td>0.0</td>\n",
       "      <td>0.0</td>\n",
       "      <td>0.0</td>\n",
       "      <td>0.0</td>\n",
       "      <td>...</td>\n",
       "      <td>0.030154</td>\n",
       "      <td>0.014221</td>\n",
       "      <td>0.000000</td>\n",
       "      <td>0.000000</td>\n",
       "      <td>0.000000</td>\n",
       "      <td>0.000000</td>\n",
       "      <td>0.000000</td>\n",
       "      <td>0.000000</td>\n",
       "      <td>0.000000</td>\n",
       "      <td>0.0</td>\n",
       "    </tr>\n",
       "    <tr>\n",
       "      <td>3</td>\n",
       "      <td>0.0</td>\n",
       "      <td>0.0</td>\n",
       "      <td>0.0</td>\n",
       "      <td>0.0</td>\n",
       "      <td>0.0</td>\n",
       "      <td>0.0</td>\n",
       "      <td>0.0</td>\n",
       "      <td>0.0</td>\n",
       "      <td>0.0</td>\n",
       "      <td>0.0</td>\n",
       "      <td>...</td>\n",
       "      <td>0.000000</td>\n",
       "      <td>0.000000</td>\n",
       "      <td>0.000000</td>\n",
       "      <td>0.000000</td>\n",
       "      <td>0.000000</td>\n",
       "      <td>0.000000</td>\n",
       "      <td>0.000000</td>\n",
       "      <td>0.000000</td>\n",
       "      <td>0.000000</td>\n",
       "      <td>1.0</td>\n",
       "    </tr>\n",
       "    <tr>\n",
       "      <td>4</td>\n",
       "      <td>0.0</td>\n",
       "      <td>0.0</td>\n",
       "      <td>0.0</td>\n",
       "      <td>0.0</td>\n",
       "      <td>0.0</td>\n",
       "      <td>0.0</td>\n",
       "      <td>0.0</td>\n",
       "      <td>0.0</td>\n",
       "      <td>0.0</td>\n",
       "      <td>0.0</td>\n",
       "      <td>...</td>\n",
       "      <td>0.000000</td>\n",
       "      <td>0.000000</td>\n",
       "      <td>0.000000</td>\n",
       "      <td>0.000000</td>\n",
       "      <td>0.000000</td>\n",
       "      <td>0.000000</td>\n",
       "      <td>0.000000</td>\n",
       "      <td>0.000000</td>\n",
       "      <td>0.000000</td>\n",
       "      <td>2.0</td>\n",
       "    </tr>\n",
       "  </tbody>\n",
       "</table>\n",
       "<p>5 rows × 2501 columns</p>\n",
       "</div>"
      ],
      "text/plain": [
       "   0     1     2     3     4     5     6     7     8     9     ...      2491  \\\n",
       "0   0.0   0.0   0.0   0.0   0.0   0.0   0.0   0.0   0.0   0.0  ...  0.000000   \n",
       "1   0.0   0.0   0.0   0.0   0.0   0.0   0.0   0.0   0.0   0.0  ...  0.013261   \n",
       "2   0.0   0.0   0.0   0.0   0.0   0.0   0.0   0.0   0.0   0.0  ...  0.030154   \n",
       "3   0.0   0.0   0.0   0.0   0.0   0.0   0.0   0.0   0.0   0.0  ...  0.000000   \n",
       "4   0.0   0.0   0.0   0.0   0.0   0.0   0.0   0.0   0.0   0.0  ...  0.000000   \n",
       "\n",
       "       2492      2493      2494      2495      2496      2497      2498  \\\n",
       "0  0.000000  0.000000  0.000000  0.000000  0.000000  0.000000  0.000000   \n",
       "1  0.012037  0.000862  0.001636  0.017129  0.017378  0.040854  0.048695   \n",
       "2  0.014221  0.000000  0.000000  0.000000  0.000000  0.000000  0.000000   \n",
       "3  0.000000  0.000000  0.000000  0.000000  0.000000  0.000000  0.000000   \n",
       "4  0.000000  0.000000  0.000000  0.000000  0.000000  0.000000  0.000000   \n",
       "\n",
       "       2499  2500  \n",
       "0  0.000000   0.0  \n",
       "1  0.035634   0.0  \n",
       "2  0.000000   0.0  \n",
       "3  0.000000   1.0  \n",
       "4  0.000000   2.0  \n",
       "\n",
       "[5 rows x 2501 columns]"
      ]
     },
     "execution_count": 10,
     "metadata": {},
     "output_type": "execute_result"
    }
   ],
   "source": [
    "df.head()"
   ]
  },
  {
   "cell_type": "markdown",
   "metadata": {},
   "source": [
    "# Training"
   ]
  },
  {
   "cell_type": "code",
   "execution_count": 11,
   "metadata": {},
   "outputs": [],
   "source": [
    "import tensorflow as tf\n",
    "from tensorflow import keras\n",
    "from tensorflow.keras.models import Sequential\n",
    "from tensorflow.keras.layers import Conv2D, MaxPooling2D, Flatten, Dense, Dropout, Input\n",
    "from tensorflow.keras.models import Model\n",
    "\n",
    "from sklearn.model_selection import train_test_split\n",
    "from tensorflow.keras.models import load_model\n",
    "\n",
    "# import regularizer\n",
    "from tensorflow.keras.regularizers import l1_l2\n"
   ]
  },
  {
   "cell_type": "code",
   "execution_count": 12,
   "metadata": {},
   "outputs": [],
   "source": [
    "X_train, X_eval, y_train, y_eval = train_test_split(\n",
    "    df.drop(2500, axis=1, inplace=False).values.reshape(nImages,50,50,1), df.loc[:,2500], test_size=0.333, random_state=seed)\n",
    "\n",
    "X_train, X_test, y_train, y_test = train_test_split(\n",
    "    X_train, y_train, test_size=0.2, random_state=seed)\n"
   ]
  },
  {
   "cell_type": "code",
   "execution_count": 13,
   "metadata": {},
   "outputs": [
    {
     "name": "stdout",
     "output_type": "stream",
     "text": [
      "WARNING:tensorflow:From /home/marco/anaconda3/lib/python3.7/site-packages/tensorflow_core/python/ops/resource_variable_ops.py:1630: calling BaseResourceVariable.__init__ (from tensorflow.python.ops.resource_variable_ops) with constraint is deprecated and will be removed in a future version.\n",
      "Instructions for updating:\n",
      "If using Keras pass *_constraint arguments to layers.\n",
      "WARNING:tensorflow:Large dropout rate: 0.6 (>0.5). In TensorFlow 2.x, dropout() uses dropout rate instead of keep_prob. Please ensure that this is intended.\n",
      "WARNING:tensorflow:Large dropout rate: 0.6 (>0.5). In TensorFlow 2.x, dropout() uses dropout rate instead of keep_prob. Please ensure that this is intended.\n"
     ]
    }
   ],
   "source": [
    "cnnInput = Input(shape=(50,50,1), name=\"input\")\n",
    "model = Conv2D(filters=128, kernel_size=(5,5), activation = 'relu',activity_regularizer=l1_l2(l1=0.001, l2=0.001))(cnnInput)\n",
    "model = MaxPooling2D(pool_size = (2, 2))(model)\n",
    "model = Dropout(rate = 0.5)(model)\n",
    "\n",
    "model = Conv2D(filters=64, kernel_size=(3,3), activation = 'relu',activity_regularizer=l1_l2(l1=0.001, l2=0.001))(cnnInput)\n",
    "model = MaxPooling2D(pool_size = (2, 2))(model)\n",
    "model = Dropout(rate = 0.6)(model)\n",
    "\n",
    "model = Flatten()(model)\n",
    "model = Dense(units = 128, activation = 'relu',activity_regularizer=l1_l2(l1=0.001, l2=0.001))(model)\n",
    "model = Dropout(rate = 0.6)(model)\n",
    "model = Dense(units = 64, activation = 'relu',activity_regularizer=l1_l2(l1=0.001, l2=0.001))(model)\n",
    "model = Dropout(rate = 0.5)(model)\n",
    "\n",
    "model = Dense(units = 32, activation = 'sigmoid',activity_regularizer=l1_l2(l1=0.001, l2=0.001))(model)\n",
    "\n",
    "preds = Dense(units = 3, activation = 'softmax', name='output')(model)\n",
    "\n",
    "model = Model(inputs=cnnInput, outputs=preds)"
   ]
  },
  {
   "cell_type": "code",
   "execution_count": 14,
   "metadata": {},
   "outputs": [],
   "source": [
    "model.compile(optimizer='adam',\n",
    "              loss='sparse_categorical_crossentropy',\n",
    "              metrics=['accuracy'])"
   ]
  },
  {
   "cell_type": "code",
   "execution_count": 15,
   "metadata": {
    "scrolled": true
   },
   "outputs": [
    {
     "name": "stdout",
     "output_type": "stream",
     "text": [
      "Train on 1094 samples, validate on 274 samples\n",
      "1094/1094 [==============================] - 3s 3ms/sample - loss: 2.4184 - acc: 0.3391 - val_loss: 1.7904 - val_acc: 0.3723\n",
      "0.3347953216374269\n",
      "0\n",
      "Train on 1094 samples, validate on 274 samples\n",
      "1094/1094 [==============================] - 2s 2ms/sample - loss: 1.6522 - acc: 0.3391 - val_loss: 1.3247 - val_acc: 0.3723\n",
      "0.3347953216374269\n",
      "0\n",
      "Train on 1094 samples, validate on 274 samples\n",
      "1094/1094 [==============================] - 2s 2ms/sample - loss: 1.3039 - acc: 0.3391 - val_loss: 1.1370 - val_acc: 0.3723\n",
      "0.3347953216374269\n",
      "0\n",
      "Train on 1094 samples, validate on 274 samples\n",
      "1094/1094 [==============================] - 2s 2ms/sample - loss: 1.1631 - acc: 0.3428 - val_loss: 1.0630 - val_acc: 0.3723\n",
      "0.3347953216374269\n",
      "0\n",
      "Train on 1094 samples, validate on 274 samples\n",
      "1094/1094 [==============================] - 2s 2ms/sample - loss: 1.0983 - acc: 0.5585 - val_loss: 1.0364 - val_acc: 0.5912\n",
      "0.5994152046783626\n",
      "0\n",
      "Train on 1094 samples, validate on 274 samples\n",
      "1094/1094 [==============================] - 2s 2ms/sample - loss: 1.0647 - acc: 0.5951 - val_loss: 0.9988 - val_acc: 0.6314\n",
      "0.6271929824561403\n",
      "0\n",
      "Train on 1094 samples, validate on 274 samples\n",
      "1094/1094 [==============================] - 2s 2ms/sample - loss: 1.0085 - acc: 0.6271 - val_loss: 0.9180 - val_acc: 0.7518\n",
      "0.6652046783625731\n",
      "0\n",
      "Train on 1094 samples, validate on 274 samples\n",
      "1094/1094 [==============================] - 2s 2ms/sample - loss: 0.9590 - acc: 0.6618 - val_loss: 0.8737 - val_acc: 0.7044\n",
      "0.6461988304093568\n",
      "0\n",
      "Train on 1094 samples, validate on 274 samples\n",
      "1094/1094 [==============================] - 2s 2ms/sample - loss: 0.9127 - acc: 0.6581 - val_loss: 0.8376 - val_acc: 0.7080\n",
      "0.6535087719298246\n",
      "0\n",
      "Train on 1094 samples, validate on 274 samples\n",
      "1094/1094 [==============================] - 2s 2ms/sample - loss: 0.8924 - acc: 0.6691 - val_loss: 0.8242 - val_acc: 0.7044\n",
      "0.6505847953216374\n",
      "0\n",
      "Train on 1094 samples, validate on 274 samples\n",
      "1094/1094 [==============================] - 2s 2ms/sample - loss: 0.8763 - acc: 0.6636 - val_loss: 0.8035 - val_acc: 0.7190\n",
      "0.6681286549707602\n",
      "0\n",
      "Train on 1094 samples, validate on 274 samples\n",
      "1094/1094 [==============================] - 2s 2ms/sample - loss: 0.8549 - acc: 0.6718 - val_loss: 0.7903 - val_acc: 0.7226\n",
      "0.6695906432748538\n",
      "0\n",
      "Train on 1094 samples, validate on 274 samples\n",
      "1094/1094 [==============================] - 2s 2ms/sample - loss: 0.8336 - acc: 0.6929 - val_loss: 0.7762 - val_acc: 0.7299\n",
      "0.6754385964912281\n",
      "0\n",
      "Train on 1094 samples, validate on 274 samples\n",
      "1094/1094 [==============================] - 2s 2ms/sample - loss: 0.8201 - acc: 0.6856 - val_loss: 0.7581 - val_acc: 0.7628\n",
      "0.6754385964912281\n",
      "0\n",
      "Train on 1094 samples, validate on 274 samples\n",
      "1094/1094 [==============================] - 2s 2ms/sample - loss: 0.8115 - acc: 0.7002 - val_loss: 0.7377 - val_acc: 0.7628\n",
      "0.6915204678362573\n",
      "0\n",
      "Train on 1094 samples, validate on 274 samples\n",
      "1094/1094 [==============================] - 2s 2ms/sample - loss: 0.7977 - acc: 0.7075 - val_loss: 0.7467 - val_acc: 0.7518\n",
      "0.685672514619883\n",
      "1\n",
      "Train on 1094 samples, validate on 274 samples\n",
      "1094/1094 [==============================] - 2s 2ms/sample - loss: 0.7882 - acc: 0.6993 - val_loss: 0.7236 - val_acc: 0.7664\n",
      "0.6915204678362573\n",
      "0\n",
      "Train on 1094 samples, validate on 274 samples\n",
      "1094/1094 [==============================] - 2s 2ms/sample - loss: 0.7738 - acc: 0.7148 - val_loss: 0.7091 - val_acc: 0.7628\n",
      "0.706140350877193\n",
      "0\n",
      "Train on 1094 samples, validate on 274 samples\n",
      "1094/1094 [==============================] - 2s 2ms/sample - loss: 0.7550 - acc: 0.7212 - val_loss: 0.6776 - val_acc: 0.7920\n",
      "0.7222222222222222\n",
      "0\n",
      "Train on 1094 samples, validate on 274 samples\n",
      "1094/1094 [==============================] - 2s 2ms/sample - loss: 0.7332 - acc: 0.7358 - val_loss: 0.6699 - val_acc: 0.7920\n",
      "0.7178362573099415\n",
      "0\n",
      "Train on 1094 samples, validate on 274 samples\n",
      "1094/1094 [==============================] - 2s 2ms/sample - loss: 0.7133 - acc: 0.7413 - val_loss: 0.6509 - val_acc: 0.8029\n",
      "0.7309941520467836\n",
      "0\n",
      "Train on 1094 samples, validate on 274 samples\n",
      "1094/1094 [==============================] - 2s 2ms/sample - loss: 0.7005 - acc: 0.7559 - val_loss: 0.6353 - val_acc: 0.7993\n",
      "0.7514619883040936\n",
      "0\n",
      "Train on 1094 samples, validate on 274 samples\n",
      "1094/1094 [==============================] - 2s 2ms/sample - loss: 0.6796 - acc: 0.7660 - val_loss: 0.6151 - val_acc: 0.8212\n",
      "0.7573099415204678\n",
      "0\n",
      "Train on 1094 samples, validate on 274 samples\n",
      "1094/1094 [==============================] - 2s 2ms/sample - loss: 0.6612 - acc: 0.7843 - val_loss: 0.5954 - val_acc: 0.8285\n",
      "0.7777777777777778\n",
      "0\n",
      "Train on 1094 samples, validate on 274 samples\n",
      "1094/1094 [==============================] - 2s 2ms/sample - loss: 0.6421 - acc: 0.7952 - val_loss: 0.5824 - val_acc: 0.8467\n",
      "0.7792397660818714\n",
      "0\n",
      "Train on 1094 samples, validate on 274 samples\n",
      "1094/1094 [==============================] - 2s 2ms/sample - loss: 0.6074 - acc: 0.8254 - val_loss: 0.5520 - val_acc: 0.8467\n",
      "0.7880116959064327\n",
      "0\n",
      "Train on 1094 samples, validate on 274 samples\n",
      "1094/1094 [==============================] - 2s 2ms/sample - loss: 0.5748 - acc: 0.8318 - val_loss: 0.5312 - val_acc: 0.8504\n",
      "0.7997076023391813\n",
      "0\n",
      "Train on 1094 samples, validate on 274 samples\n",
      "1094/1094 [==============================] - 2s 2ms/sample - loss: 0.5598 - acc: 0.8410 - val_loss: 0.5163 - val_acc: 0.8613\n",
      "0.7967836257309941\n",
      "0\n",
      "Train on 1094 samples, validate on 274 samples\n",
      "1094/1094 [==============================] - 2s 2ms/sample - loss: 0.5444 - acc: 0.8400 - val_loss: 0.5058 - val_acc: 0.8650\n",
      "0.8055555555555556\n",
      "0\n",
      "Train on 1094 samples, validate on 274 samples\n",
      "1094/1094 [==============================] - 2s 2ms/sample - loss: 0.5279 - acc: 0.8510 - val_loss: 0.5262 - val_acc: 0.8467\n",
      "0.8084795321637427\n",
      "1\n",
      "Train on 1094 samples, validate on 274 samples\n",
      "1094/1094 [==============================] - 2s 2ms/sample - loss: 0.5032 - acc: 0.8620 - val_loss: 0.4969 - val_acc: 0.8540\n",
      "0.8128654970760234\n",
      "0\n",
      "Train on 1094 samples, validate on 274 samples\n",
      "1094/1094 [==============================] - 2s 2ms/sample - loss: 0.4854 - acc: 0.8675 - val_loss: 0.4757 - val_acc: 0.8686\n",
      "0.814327485380117\n",
      "0\n",
      "Train on 1094 samples, validate on 274 samples\n",
      "1094/1094 [==============================] - 2s 2ms/sample - loss: 0.4615 - acc: 0.8784 - val_loss: 0.4713 - val_acc: 0.8723\n",
      "0.8172514619883041\n",
      "0\n",
      "Train on 1094 samples, validate on 274 samples\n",
      "1094/1094 [==============================] - 2s 2ms/sample - loss: 0.4460 - acc: 0.8885 - val_loss: 0.4822 - val_acc: 0.8540\n",
      "0.8114035087719298\n",
      "1\n",
      "Train on 1094 samples, validate on 274 samples\n",
      "1094/1094 [==============================] - 2s 2ms/sample - loss: 0.4378 - acc: 0.8894 - val_loss: 0.4655 - val_acc: 0.8759\n",
      "0.8128654970760234\n",
      "0\n",
      "Train on 1094 samples, validate on 274 samples\n",
      "1094/1094 [==============================] - 2s 2ms/sample - loss: 0.4211 - acc: 0.8985 - val_loss: 0.4618 - val_acc: 0.8613\n",
      "0.8245614035087719\n",
      "0\n",
      "Train on 1094 samples, validate on 274 samples\n",
      "1094/1094 [==============================] - 3s 2ms/sample - loss: 0.4083 - acc: 0.8903 - val_loss: 0.4489 - val_acc: 0.8832\n",
      "0.8201754385964912\n",
      "0\n",
      "Train on 1094 samples, validate on 274 samples\n",
      "1094/1094 [==============================] - 2s 2ms/sample - loss: 0.3832 - acc: 0.9177 - val_loss: 0.4619 - val_acc: 0.8832\n",
      "0.8128654970760234\n",
      "1\n",
      "Train on 1094 samples, validate on 274 samples\n",
      "1094/1094 [==============================] - 2s 2ms/sample - loss: 0.3843 - acc: 0.9031 - val_loss: 0.4482 - val_acc: 0.8686\n",
      "0.8099415204678363\n",
      "2\n",
      "Train on 1094 samples, validate on 274 samples\n",
      "1094/1094 [==============================] - 2s 2ms/sample - loss: 0.3545 - acc: 0.9168 - val_loss: 0.4377 - val_acc: 0.8759\n",
      "0.8245614035087719\n",
      "0\n",
      "Train on 1094 samples, validate on 274 samples\n",
      "1094/1094 [==============================] - 2s 2ms/sample - loss: 0.3560 - acc: 0.9186 - val_loss: 0.4498 - val_acc: 0.8759\n",
      "0.8187134502923976\n",
      "1\n",
      "Train on 1094 samples, validate on 274 samples\n",
      "1094/1094 [==============================] - 2s 2ms/sample - loss: 0.3247 - acc: 0.9360 - val_loss: 0.4448 - val_acc: 0.8796\n",
      "0.8187134502923976\n",
      "2\n",
      "Train on 1094 samples, validate on 274 samples\n"
     ]
    },
    {
     "name": "stdout",
     "output_type": "stream",
     "text": [
      "1094/1094 [==============================] - 2s 2ms/sample - loss: 0.3097 - acc: 0.9232 - val_loss: 0.4467 - val_acc: 0.8832\n",
      "0.8230994152046783\n",
      "3\n",
      "Train on 1094 samples, validate on 274 samples\n",
      "1094/1094 [==============================] - 2s 2ms/sample - loss: 0.3134 - acc: 0.9324 - val_loss: 0.4362 - val_acc: 0.8869\n",
      "0.827485380116959\n",
      "0\n",
      "Train on 1094 samples, validate on 274 samples\n",
      "1094/1094 [==============================] - 2s 2ms/sample - loss: 0.2954 - acc: 0.9378 - val_loss: 0.4501 - val_acc: 0.8796\n",
      "0.8216374269005848\n",
      "1\n",
      "Train on 1094 samples, validate on 274 samples\n",
      "1094/1094 [==============================] - 2s 2ms/sample - loss: 0.2966 - acc: 0.9397 - val_loss: 0.4899 - val_acc: 0.8650\n",
      "0.8172514619883041\n",
      "2\n",
      "Train on 1094 samples, validate on 274 samples\n",
      "1094/1094 [==============================] - 2s 2ms/sample - loss: 0.2833 - acc: 0.9479 - val_loss: 0.4472 - val_acc: 0.8832\n",
      "0.8201754385964912\n",
      "3\n",
      "Train on 1094 samples, validate on 274 samples\n",
      "1094/1094 [==============================] - 2s 2ms/sample - loss: 0.2706 - acc: 0.9497 - val_loss: 0.4340 - val_acc: 0.8832\n",
      "0.8201754385964912\n",
      "0\n",
      "Train on 1094 samples, validate on 274 samples\n",
      "1094/1094 [==============================] - 2s 2ms/sample - loss: 0.2697 - acc: 0.9433 - val_loss: 0.4249 - val_acc: 0.8759\n",
      "0.8216374269005848\n",
      "0\n",
      "Train on 1094 samples, validate on 274 samples\n",
      "1094/1094 [==============================] - 2s 2ms/sample - loss: 0.2611 - acc: 0.9516 - val_loss: 0.4649 - val_acc: 0.8759\n",
      "0.8289473684210527\n",
      "1\n",
      "Train on 1094 samples, validate on 274 samples\n",
      "1094/1094 [==============================] - 2s 2ms/sample - loss: 0.2577 - acc: 0.9497 - val_loss: 0.4284 - val_acc: 0.8832\n",
      "0.8230994152046783\n",
      "2\n",
      "Train on 1094 samples, validate on 274 samples\n",
      "1094/1094 [==============================] - 2s 2ms/sample - loss: 0.2737 - acc: 0.9351 - val_loss: 0.4298 - val_acc: 0.8686\n",
      "0.8304093567251462\n",
      "3\n",
      "Train on 1094 samples, validate on 274 samples\n",
      "1094/1094 [==============================] - 2s 2ms/sample - loss: 0.2456 - acc: 0.9607 - val_loss: 0.4328 - val_acc: 0.8832\n",
      "0.8245614035087719\n",
      "4\n",
      "Train on 1094 samples, validate on 274 samples\n",
      "1094/1094 [==============================] - 2s 2ms/sample - loss: 0.2351 - acc: 0.9543 - val_loss: 0.4287 - val_acc: 0.8905\n",
      "0.827485380116959\n",
      "5\n",
      "Train on 1094 samples, validate on 274 samples\n",
      "1094/1094 [==============================] - 2s 2ms/sample - loss: 0.2373 - acc: 0.9543 - val_loss: 0.4347 - val_acc: 0.8869\n",
      "0.8391812865497076\n",
      "6\n",
      "Train on 1094 samples, validate on 274 samples\n",
      "1094/1094 [==============================] - 2s 2ms/sample - loss: 0.2193 - acc: 0.9662 - val_loss: 0.4297 - val_acc: 0.8942\n",
      "0.8216374269005848\n",
      "7\n",
      "Train on 1094 samples, validate on 274 samples\n",
      "1094/1094 [==============================] - 2s 2ms/sample - loss: 0.2078 - acc: 0.9671 - val_loss: 0.4326 - val_acc: 0.8796\n",
      "0.8304093567251462\n",
      "8\n",
      "Train on 1094 samples, validate on 274 samples\n",
      "1094/1094 [==============================] - 2s 2ms/sample - loss: 0.2175 - acc: 0.9662 - val_loss: 0.4426 - val_acc: 0.8869\n",
      "0.8260233918128655\n",
      "9\n",
      "Train on 1094 samples, validate on 274 samples\n",
      "1094/1094 [==============================] - 2s 2ms/sample - loss: 0.1988 - acc: 0.9726 - val_loss: 0.4446 - val_acc: 0.8796\n",
      "0.8128654970760234\n",
      "10\n",
      "Train on 1094 samples, validate on 274 samples\n",
      "1094/1094 [==============================] - 2s 2ms/sample - loss: 0.1924 - acc: 0.9817 - val_loss: 0.4268 - val_acc: 0.8832\n",
      "0.8304093567251462\n",
      "11\n",
      "Train on 1094 samples, validate on 274 samples\n",
      "1094/1094 [==============================] - 2s 2ms/sample - loss: 0.2044 - acc: 0.9616 - val_loss: 0.4363 - val_acc: 0.8759\n",
      "0.8157894736842105\n",
      "12\n",
      "Train on 1094 samples, validate on 274 samples\n",
      "1094/1094 [==============================] - 2s 2ms/sample - loss: 0.1942 - acc: 0.9689 - val_loss: 0.4355 - val_acc: 0.8796\n",
      "0.8245614035087719\n",
      "13\n",
      "Train on 1094 samples, validate on 274 samples\n",
      "1094/1094 [==============================] - 2s 2ms/sample - loss: 0.1917 - acc: 0.9744 - val_loss: 0.4211 - val_acc: 0.8942\n",
      "0.827485380116959\n",
      "0\n",
      "Train on 1094 samples, validate on 274 samples\n",
      "1094/1094 [==============================] - 2s 2ms/sample - loss: 0.1930 - acc: 0.9671 - val_loss: 0.4246 - val_acc: 0.8942\n",
      "0.8304093567251462\n",
      "1\n",
      "Train on 1094 samples, validate on 274 samples\n",
      "1094/1094 [==============================] - 2s 2ms/sample - loss: 0.1841 - acc: 0.9689 - val_loss: 0.4219 - val_acc: 0.8832\n",
      "0.827485380116959\n",
      "2\n",
      "Train on 1094 samples, validate on 274 samples\n",
      "1094/1094 [==============================] - 2s 2ms/sample - loss: 0.1810 - acc: 0.9717 - val_loss: 0.4378 - val_acc: 0.8869\n",
      "0.8333333333333334\n",
      "3\n",
      "Train on 1094 samples, validate on 274 samples\n",
      "1094/1094 [==============================] - 2s 2ms/sample - loss: 0.1761 - acc: 0.9762 - val_loss: 0.4250 - val_acc: 0.8942\n",
      "0.8245614035087719\n",
      "4\n",
      "Train on 1094 samples, validate on 274 samples\n",
      "1094/1094 [==============================] - 2s 2ms/sample - loss: 0.1765 - acc: 0.9735 - val_loss: 0.4335 - val_acc: 0.8869\n",
      "0.827485380116959\n",
      "5\n",
      "Train on 1094 samples, validate on 274 samples\n",
      "1094/1094 [==============================] - 2s 2ms/sample - loss: 0.1754 - acc: 0.9799 - val_loss: 0.4347 - val_acc: 0.8832\n",
      "0.8201754385964912\n",
      "6\n",
      "Train on 1094 samples, validate on 274 samples\n",
      "1094/1094 [==============================] - 2s 2ms/sample - loss: 0.1566 - acc: 0.9835 - val_loss: 0.4469 - val_acc: 0.8978\n",
      "0.8260233918128655\n",
      "7\n",
      "Train on 1094 samples, validate on 274 samples\n",
      "1094/1094 [==============================] - 2s 2ms/sample - loss: 0.1529 - acc: 0.9799 - val_loss: 0.4538 - val_acc: 0.8796\n",
      "0.8260233918128655\n",
      "8\n",
      "Train on 1094 samples, validate on 274 samples\n",
      "1094/1094 [==============================] - 2s 2ms/sample - loss: 0.1509 - acc: 0.9835 - val_loss: 0.4513 - val_acc: 0.8869\n",
      "0.8230994152046783\n",
      "9\n",
      "Train on 1094 samples, validate on 274 samples\n",
      "1094/1094 [==============================] - 2s 2ms/sample - loss: 0.1574 - acc: 0.9817 - val_loss: 0.4526 - val_acc: 0.8759\n",
      "0.8245614035087719\n",
      "10\n",
      "Train on 1094 samples, validate on 274 samples\n",
      "1094/1094 [==============================] - 2s 2ms/sample - loss: 0.1603 - acc: 0.9799 - val_loss: 0.4413 - val_acc: 0.8759\n",
      "0.8172514619883041\n",
      "11\n",
      "Train on 1094 samples, validate on 274 samples\n",
      "1094/1094 [==============================] - 2s 2ms/sample - loss: 0.1609 - acc: 0.9826 - val_loss: 0.4458 - val_acc: 0.8869\n",
      "0.8289473684210527\n",
      "12\n",
      "Train on 1094 samples, validate on 274 samples\n",
      "1094/1094 [==============================] - 2s 2ms/sample - loss: 0.1479 - acc: 0.9881 - val_loss: 0.4438 - val_acc: 0.8832\n",
      "0.8230994152046783\n",
      "13\n",
      "Train on 1094 samples, validate on 274 samples\n",
      "1094/1094 [==============================] - 2s 2ms/sample - loss: 0.1547 - acc: 0.9817 - val_loss: 0.4486 - val_acc: 0.8723\n",
      "0.814327485380117\n",
      "14\n",
      "Train on 1094 samples, validate on 274 samples\n",
      "1094/1094 [==============================] - 3s 2ms/sample - loss: 0.1426 - acc: 0.9854 - val_loss: 0.4536 - val_acc: 0.8723\n",
      "0.8157894736842105\n",
      "15\n",
      "Train on 1094 samples, validate on 274 samples\n",
      "1094/1094 [==============================] - 2s 2ms/sample - loss: 0.1606 - acc: 0.9790 - val_loss: 0.4461 - val_acc: 0.8796\n",
      "0.8230994152046783\n",
      "16\n",
      "Train on 1094 samples, validate on 274 samples\n",
      "1094/1094 [==============================] - 2s 2ms/sample - loss: 0.1463 - acc: 0.9854 - val_loss: 0.4862 - val_acc: 0.8686\n",
      "0.8318713450292398\n",
      "17\n",
      "Train on 1094 samples, validate on 274 samples\n",
      "1094/1094 [==============================] - 3s 2ms/sample - loss: 0.1439 - acc: 0.9845 - val_loss: 0.4635 - val_acc: 0.8723\n",
      "0.8245614035087719\n",
      "18\n",
      "Train on 1094 samples, validate on 274 samples\n",
      "1094/1094 [==============================] - 2s 2ms/sample - loss: 0.1434 - acc: 0.9826 - val_loss: 0.4677 - val_acc: 0.8723\n",
      "0.8260233918128655\n",
      "19\n",
      "Train on 1094 samples, validate on 274 samples\n",
      "1094/1094 [==============================] - 2s 2ms/sample - loss: 0.1379 - acc: 0.9872 - val_loss: 0.4762 - val_acc: 0.8723\n",
      "0.8187134502923976\n",
      "20\n",
      "Train on 1094 samples, validate on 274 samples\n",
      "1094/1094 [==============================] - 2s 2ms/sample - loss: 0.1313 - acc: 0.9872 - val_loss: 0.4727 - val_acc: 0.8832\n",
      "0.814327485380117\n",
      "21\n",
      "Train on 1094 samples, validate on 274 samples\n"
     ]
    },
    {
     "name": "stdout",
     "output_type": "stream",
     "text": [
      "1094/1094 [==============================] - 2s 2ms/sample - loss: 0.1505 - acc: 0.9762 - val_loss: 0.4542 - val_acc: 0.8869\n",
      "0.8245614035087719\n",
      "22\n",
      "Train on 1094 samples, validate on 274 samples\n",
      "1094/1094 [==============================] - 2s 2ms/sample - loss: 0.1364 - acc: 0.9872 - val_loss: 0.4629 - val_acc: 0.8759\n",
      "0.8099415204678363\n",
      "23\n",
      "Train on 1094 samples, validate on 274 samples\n",
      "1094/1094 [==============================] - 2s 2ms/sample - loss: 0.1383 - acc: 0.9909 - val_loss: 0.4471 - val_acc: 0.8905\n",
      "0.8260233918128655\n",
      "24\n",
      "Train on 1094 samples, validate on 274 samples\n",
      "1094/1094 [==============================] - 2s 2ms/sample - loss: 0.1355 - acc: 0.9817 - val_loss: 0.4584 - val_acc: 0.8796\n",
      "0.827485380116959\n",
      "25\n",
      "Train on 1094 samples, validate on 274 samples\n",
      "1094/1094 [==============================] - 2s 2ms/sample - loss: 0.1404 - acc: 0.9835 - val_loss: 0.4554 - val_acc: 0.8905\n",
      "0.8260233918128655\n",
      "26\n",
      "Train on 1094 samples, validate on 274 samples\n",
      "1094/1094 [==============================] - 2s 2ms/sample - loss: 0.1289 - acc: 0.9872 - val_loss: 0.4540 - val_acc: 0.8832\n",
      "0.8245614035087719\n",
      "27\n",
      "Train on 1094 samples, validate on 274 samples\n",
      "1094/1094 [==============================] - 2s 2ms/sample - loss: 0.1281 - acc: 0.9909 - val_loss: 0.4675 - val_acc: 0.8832\n",
      "0.8201754385964912\n",
      "28\n",
      "Train on 1094 samples, validate on 274 samples\n",
      "1094/1094 [==============================] - 2s 2ms/sample - loss: 0.1242 - acc: 0.9918 - val_loss: 0.4696 - val_acc: 0.8869\n",
      "0.8172514619883041\n",
      "29\n",
      "Train on 1094 samples, validate on 274 samples\n",
      "1094/1094 [==============================] - 2s 2ms/sample - loss: 0.1187 - acc: 0.9909 - val_loss: 0.4683 - val_acc: 0.8869\n",
      "0.8187134502923976\n",
      "30\n",
      "Train on 1094 samples, validate on 274 samples\n",
      "1094/1094 [==============================] - 2s 2ms/sample - loss: 0.1198 - acc: 0.9945 - val_loss: 0.4785 - val_acc: 0.8869\n",
      "0.8260233918128655\n",
      "31\n",
      "Model didn't improve in the last 30 epochs.. break\n",
      "WARNING:tensorflow:From /home/marco/anaconda3/lib/python3.7/site-packages/tensorflow_core/python/ops/init_ops.py:97: calling GlorotUniform.__init__ (from tensorflow.python.ops.init_ops) with dtype is deprecated and will be removed in a future version.\n",
      "Instructions for updating:\n",
      "Call initializer instance with the dtype argument instead of passing it to the constructor\n",
      "WARNING:tensorflow:From /home/marco/anaconda3/lib/python3.7/site-packages/tensorflow_core/python/ops/init_ops.py:97: calling Zeros.__init__ (from tensorflow.python.ops.init_ops) with dtype is deprecated and will be removed in a future version.\n",
      "Instructions for updating:\n",
      "Call initializer instance with the dtype argument instead of passing it to the constructor\n",
      "WARNING:tensorflow:Large dropout rate: 0.6 (>0.5). In TensorFlow 2.x, dropout() uses dropout rate instead of keep_prob. Please ensure that this is intended.\n",
      "WARNING:tensorflow:Large dropout rate: 0.6 (>0.5). In TensorFlow 2.x, dropout() uses dropout rate instead of keep_prob. Please ensure that this is intended.\n"
     ]
    }
   ],
   "source": [
    "bestModelLoss = 9999.0;\n",
    "sensitivity = 0.001\n",
    "lastBestIter = 0;\n",
    "\n",
    "for i in range(1,999):\n",
    "    hist = model.fit(X_train, y_train.values, validation_data=(X_test, y_test.values), batch_size=128)\n",
    "    \n",
    "    predictions = model.predict(X_eval)\n",
    "    classes = np.argmax(predictions, axis=1)\n",
    "    print(np.mean(classes == y_eval))\n",
    "    \n",
    "    valLoss = hist.history['val_loss'][0]\n",
    "    if valLoss < bestModelLoss -  sensitivity:\n",
    "        bestModelLoss = valLoss\n",
    "        lastBestIter = i\n",
    "        model.save('bestModel.h5')\n",
    "    \n",
    "    print(i - lastBestIter)\n",
    "    if i > lastBestIter+30:\n",
    "        print(\"Model didn't improve in the last 30 epochs.. break\")\n",
    "        break;\n",
    "\n",
    "model = load_model('bestModel.h5')"
   ]
  },
  {
   "cell_type": "code",
   "execution_count": 16,
   "metadata": {},
   "outputs": [],
   "source": [
    "predictions = model.predict(X_eval)\n",
    "classes = np.argmax(predictions, axis=1)"
   ]
  },
  {
   "cell_type": "code",
   "execution_count": 17,
   "metadata": {
    "scrolled": true
   },
   "outputs": [
    {
     "data": {
      "text/plain": [
       "array([1, 1, 1, 1, 2, 1, 1, 1, 0, 1, 0, 1, 2, 2, 2, 1, 1, 2, 2, 1, 2, 1,\n",
       "       1, 1, 2, 2, 1, 2, 0, 2, 1, 1, 1, 2, 1, 1, 0, 2, 1, 2, 2, 2, 1, 0,\n",
       "       1, 1, 2, 1, 2, 2, 2, 2, 0, 2, 1, 1, 1, 2, 2, 0, 1, 1, 1, 2, 1, 0,\n",
       "       1, 2, 2, 1, 1, 0, 1, 1, 1, 0, 2, 2, 1, 1, 1, 2, 1, 1, 1, 1, 1, 1,\n",
       "       2, 1, 2, 1, 1, 2, 2, 2, 1, 2, 1, 2, 2, 2, 1, 2, 1, 2, 1, 0, 1, 1,\n",
       "       2, 1, 2, 1, 0, 1, 0, 2, 0, 1, 2, 1, 2, 2, 1, 2, 1, 2, 2, 1, 2, 2,\n",
       "       2, 1, 2, 1, 1, 1, 2, 2, 1, 2, 0, 0, 1, 0, 2, 2, 0, 1, 2, 1, 1, 0,\n",
       "       2, 1, 1, 1, 0, 1, 1, 0, 2, 0, 1, 0, 1, 1, 1, 1, 0, 0, 1, 2, 1, 1,\n",
       "       2, 1, 1, 1, 1, 2, 1, 0, 1, 2, 1, 0, 1, 1, 1, 0, 0, 0, 2, 0, 1, 1,\n",
       "       1, 1, 1, 2, 0, 0, 1, 1, 2, 2, 1, 1, 0, 2, 2, 2, 2, 2, 1, 1, 1, 0,\n",
       "       2, 1, 1, 0, 2, 1, 1, 2, 0, 1, 1, 1, 0, 2, 1, 1, 2, 1, 2, 0, 1, 2,\n",
       "       2, 2, 2, 1, 0, 1, 1, 1, 0, 2, 2, 1, 0, 1, 1, 1, 2, 1, 1, 2, 1, 1,\n",
       "       2, 0, 2, 2, 1, 1, 2, 1, 2, 1, 1, 0, 2, 2, 1, 0, 1, 2, 0, 0, 0, 2,\n",
       "       1, 2, 1, 1, 0, 1, 2, 1, 0, 2, 2, 1, 0, 0, 2, 2, 0, 1, 0, 1, 0, 1,\n",
       "       1, 1, 2, 2, 0, 1, 1, 1, 1, 1, 2, 0, 1, 1, 1, 2, 1, 1, 0, 2, 0, 1,\n",
       "       1, 1, 1, 1, 1, 1, 2, 1, 1, 2, 0, 0, 2, 1, 2, 0, 0, 1, 1, 1, 0, 2,\n",
       "       1, 1, 1, 1, 2, 2, 1, 2, 1, 2, 1, 2, 1, 1, 2, 1, 1, 2, 0, 1, 1, 1,\n",
       "       2, 2, 1, 0, 1, 1, 1, 1, 2, 0, 2, 1, 1, 1, 0, 2, 2, 2, 2, 1, 2, 2,\n",
       "       1, 2, 1, 1, 1, 0, 2, 0, 2, 0, 2, 2, 0, 2, 2, 1, 1, 1, 1, 1, 2, 1,\n",
       "       1, 2, 2, 2, 0, 1, 2, 0, 0, 1, 2, 2, 1, 1, 1, 2, 2, 0, 1, 2, 1, 1,\n",
       "       1, 2, 1, 2, 1, 1, 2, 2, 2, 0, 0, 0, 1, 2, 1, 0, 1, 0, 2, 1, 0, 0,\n",
       "       2, 1, 1, 1, 0, 0, 1, 1, 1, 1, 1, 2, 0, 0, 2, 2, 2, 1, 0, 2, 2, 0,\n",
       "       2, 0, 1, 2, 1, 2, 1, 2, 1, 1, 1, 1, 0, 1, 2, 1, 1, 2, 1, 2, 1, 0,\n",
       "       0, 1, 1, 1, 0, 1, 1, 1, 2, 2, 2, 1, 1, 2, 2, 0, 1, 1, 1, 0, 2, 1,\n",
       "       2, 0, 1, 1, 2, 1, 0, 0, 1, 0, 1, 2, 2, 0, 1, 0, 1, 1, 0, 0, 1, 0,\n",
       "       2, 2, 0, 0, 1, 2, 1, 0, 1, 2, 0, 1, 1, 2, 2, 1, 1, 2, 1, 1, 1, 0,\n",
       "       1, 1, 1, 2, 0, 0, 2, 1, 2, 1, 1, 2, 1, 2, 2, 2, 1, 1, 1, 2, 2, 0,\n",
       "       0, 2, 1, 1, 2, 1, 2, 1, 2, 1, 2, 1, 0, 2, 1, 2, 1, 1, 1, 2, 1, 1,\n",
       "       0, 0, 2, 0, 2, 1, 1, 0, 2, 2, 0, 1, 0, 2, 2, 1, 0, 2, 2, 2, 0, 1,\n",
       "       1, 1, 1, 1, 1, 2, 1, 0, 1, 1, 1, 1, 1, 0, 1, 1, 1, 1, 1, 0, 1, 0,\n",
       "       2, 0, 1, 2, 0, 1, 1, 2, 0, 0, 2, 2, 2, 1, 2, 2, 1, 0, 1, 0, 2, 2,\n",
       "       2, 0])"
      ]
     },
     "execution_count": 17,
     "metadata": {},
     "output_type": "execute_result"
    }
   ],
   "source": [
    "classes"
   ]
  },
  {
   "cell_type": "code",
   "execution_count": 18,
   "metadata": {},
   "outputs": [
    {
     "data": {
      "text/plain": [
       "0.827485380116959"
      ]
     },
     "execution_count": 18,
     "metadata": {},
     "output_type": "execute_result"
    }
   ],
   "source": [
    "np.mean(classes == y_eval)"
   ]
  },
  {
   "cell_type": "code",
   "execution_count": 19,
   "metadata": {},
   "outputs": [],
   "source": [
    "from sklearn.metrics import confusion_matrix"
   ]
  },
  {
   "cell_type": "code",
   "execution_count": 20,
   "metadata": {},
   "outputs": [
    {
     "data": {
      "text/plain": [
       "array([[108,  29,  21],\n",
       "       [ 22, 265,  10],\n",
       "       [  4,  32, 193]])"
      ]
     },
     "execution_count": 20,
     "metadata": {},
     "output_type": "execute_result"
    }
   ],
   "source": [
    "confusion_matrix(y_true=y_eval, y_pred=classes)"
   ]
  },
  {
   "cell_type": "markdown",
   "metadata": {},
   "source": [
    "## Data augmentation "
   ]
  },
  {
   "cell_type": "code",
   "execution_count": 21,
   "metadata": {},
   "outputs": [],
   "source": [
    "from tensorflow.keras.preprocessing.image import ImageDataGenerator;"
   ]
  },
  {
   "cell_type": "code",
   "execution_count": 22,
   "metadata": {},
   "outputs": [],
   "source": [
    "datagen = ImageDataGenerator(\n",
    "    rotation_range=45,\n",
    "    width_shift_range=0.0,\n",
    "    height_shift_range=0.0,\n",
    "    shear_range= 0,\n",
    "    horizontal_flip=True,\n",
    "    vertical_flip=True)\n",
    "\n",
    "datagen.fit(X_train)"
   ]
  },
  {
   "cell_type": "code",
   "execution_count": 23,
   "metadata": {},
   "outputs": [],
   "source": [
    "cnnInput = Input(shape=(50,50,1), name=\"input\")\n",
    "\n",
    "model = Conv2D(filters=128, kernel_size=(5,5), activation = 'relu',activity_regularizer=l1_l2(l1=0.00001, l2=0.00001))(cnnInput)\n",
    "model = MaxPooling2D(pool_size = (2, 2))(model)\n",
    "model = Dropout(rate = 0.5)(model)\n",
    "\n",
    "model = Conv2D(filters=64, kernel_size=(3,3), activation = 'relu',activity_regularizer=l1_l2(l1=0.00001, l2=0.00001))(cnnInput)\n",
    "model = MaxPooling2D(pool_size = (2, 2))(model)\n",
    "model = Dropout(rate = 0.5)(model)\n",
    "\n",
    "model = Flatten()(model)\n",
    "model = Dense(units = 256, activation = 'relu',activity_regularizer=l1_l2(l1=0.00001, l2=0.00001))(model)\n",
    "model = Dropout(rate = 0.5)(model)\n",
    "model = Dense(units = 128, activation = 'relu',activity_regularizer=l1_l2(l1=0.00001, l2=0.00001))(model)\n",
    "model = Dropout(rate = 0.5)(model)\n",
    "\n",
    "model = Dense(units = 32, activation = 'sigmoid',activity_regularizer=l1_l2(l1=0.00001, l2=0.00001))(model)\n",
    "\n",
    "preds = Dense(units = 3, activation = 'softmax', name='output')(model)\n",
    "\n",
    "model = Model(inputs=cnnInput, outputs=preds)\n",
    "\n",
    "model.compile(optimizer='adam',\n",
    "              loss='sparse_categorical_crossentropy',\n",
    "              metrics=['accuracy'])"
   ]
  },
  {
   "cell_type": "code",
   "execution_count": 24,
   "metadata": {
    "scrolled": true
   },
   "outputs": [
    {
     "name": "stdout",
     "output_type": "stream",
     "text": [
      "274/9 [=================================================================================================================================================================================================================================================================================================================================================================================================================================================================================================================================================================================================================================================================================================================================================================================================================================================================================================================================================] - 0s 1ms/sample - loss: 0.8199 - acc: 0.7190\n",
      "9/9 [==============================] - 4s 406ms/step - loss: 1.0281 - acc: 0.4452 - val_loss: 0.8504 - val_acc: 0.7190\n",
      "0.6359649122807017\n",
      "0\n",
      "274/9 [=================================================================================================================================================================================================================================================================================================================================================================================================================================================================================================================================================================================================================================================================================================================================================================================================================================================================================================================================================] - 0s 585us/sample - loss: 0.6575 - acc: 0.7299\n",
      "9/9 [==============================] - 3s 283ms/step - loss: 0.8545 - acc: 0.6654 - val_loss: 0.7008 - val_acc: 0.7299\n",
      "0.6637426900584795\n",
      "0\n",
      "274/9 [=================================================================================================================================================================================================================================================================================================================================================================================================================================================================================================================================================================================================================================================================================================================================================================================================================================================================================================================================================] - 0s 658us/sample - loss: 0.6123 - acc: 0.7372\n",
      "9/9 [==============================] - 3s 296ms/step - loss: 0.7748 - acc: 0.6709 - val_loss: 0.6652 - val_acc: 0.7372\n",
      "0.6652046783625731\n",
      "0\n",
      "274/9 [=================================================================================================================================================================================================================================================================================================================================================================================================================================================================================================================================================================================================================================================================================================================================================================================================================================================================================================================================================] - 0s 556us/sample - loss: 0.6248 - acc: 0.7409\n",
      "9/9 [==============================] - 3s 291ms/step - loss: 0.7611 - acc: 0.6828 - val_loss: 0.6702 - val_acc: 0.7409\n",
      "0.6812865497076024\n",
      "1\n",
      "274/9 [=================================================================================================================================================================================================================================================================================================================================================================================================================================================================================================================================================================================================================================================================================================================================================================================================================================================================================================================================================] - 0s 579us/sample - loss: 0.6189 - acc: 0.7555\n",
      "9/9 [==============================] - 2s 276ms/step - loss: 0.7375 - acc: 0.6920 - val_loss: 0.6509 - val_acc: 0.7555\n",
      "0.6973684210526315\n",
      "0\n",
      "274/9 [=================================================================================================================================================================================================================================================================================================================================================================================================================================================================================================================================================================================================================================================================================================================================================================================================================================================================================================================================================] - 0s 634us/sample - loss: 0.5687 - acc: 0.7555\n",
      "9/9 [==============================] - 3s 326ms/step - loss: 0.7001 - acc: 0.7176 - val_loss: 0.6121 - val_acc: 0.7555\n",
      "0.7017543859649122\n",
      "0\n",
      "274/9 [=================================================================================================================================================================================================================================================================================================================================================================================================================================================================================================================================================================================================================================================================================================================================================================================================================================================================================================================================================] - 0s 711us/sample - loss: 0.4967 - acc: 0.7664\n",
      "9/9 [==============================] - 3s 315ms/step - loss: 0.6819 - acc: 0.7157 - val_loss: 0.5593 - val_acc: 0.7664\n",
      "0.7017543859649122\n",
      "0\n",
      "274/9 [=================================================================================================================================================================================================================================================================================================================================================================================================================================================================================================================================================================================================================================================================================================================================================================================================================================================================================================================================================] - 0s 555us/sample - loss: 0.5088 - acc: 0.7445\n"
     ]
    },
    {
     "name": "stdout",
     "output_type": "stream",
     "text": [
      "9/9 [==============================] - 3s 290ms/step - loss: 0.6723 - acc: 0.7230 - val_loss: 0.5662 - val_acc: 0.7445\n",
      "0.7178362573099415\n",
      "1\n",
      "274/9 [=================================================================================================================================================================================================================================================================================================================================================================================================================================================================================================================================================================================================================================================================================================================================================================================================================================================================================================================================================] - 0s 674us/sample - loss: 0.4436 - acc: 0.7591\n",
      "9/9 [==============================] - 3s 300ms/step - loss: 0.6581 - acc: 0.7386 - val_loss: 0.5148 - val_acc: 0.7591\n",
      "0.7339181286549707\n",
      "0\n",
      "274/9 [=================================================================================================================================================================================================================================================================================================================================================================================================================================================================================================================================================================================================================================================================================================================================================================================================================================================================================================================================================] - 0s 748us/sample - loss: 0.4914 - acc: 0.7664\n",
      "9/9 [==============================] - 3s 288ms/step - loss: 0.6283 - acc: 0.7495 - val_loss: 0.5613 - val_acc: 0.7664\n",
      "0.7441520467836257\n",
      "1\n",
      "274/9 [=================================================================================================================================================================================================================================================================================================================================================================================================================================================================================================================================================================================================================================================================================================================================================================================================================================================================================================================================================] - 0s 541us/sample - loss: 0.3995 - acc: 0.7774\n",
      "9/9 [==============================] - 3s 292ms/step - loss: 0.6288 - acc: 0.7532 - val_loss: 0.4804 - val_acc: 0.7774\n",
      "0.7266081871345029\n",
      "0\n",
      "274/9 [=================================================================================================================================================================================================================================================================================================================================================================================================================================================================================================================================================================================================================================================================================================================================================================================================================================================================================================================================================] - 0s 634us/sample - loss: 0.4973 - acc: 0.7664\n",
      "9/9 [==============================] - 3s 305ms/step - loss: 0.6158 - acc: 0.7532 - val_loss: 0.5408 - val_acc: 0.7664\n",
      "0.7149122807017544\n",
      "1\n",
      "274/9 [=================================================================================================================================================================================================================================================================================================================================================================================================================================================================================================================================================================================================================================================================================================================================================================================================================================================================================================================================================] - 0s 671us/sample - loss: 0.4180 - acc: 0.7920\n",
      "9/9 [==============================] - 3s 285ms/step - loss: 0.6043 - acc: 0.7578 - val_loss: 0.4797 - val_acc: 0.7920\n",
      "0.7441520467836257\n",
      "2\n",
      "274/9 [=================================================================================================================================================================================================================================================================================================================================================================================================================================================================================================================================================================================================================================================================================================================================================================================================================================================================================================================================================] - 0s 632us/sample - loss: 0.3925 - acc: 0.7847\n",
      "9/9 [==============================] - 3s 290ms/step - loss: 0.6217 - acc: 0.7541 - val_loss: 0.4699 - val_acc: 0.7847\n",
      "0.7514619883040936\n",
      "0\n",
      "274/9 [=================================================================================================================================================================================================================================================================================================================================================================================================================================================================================================================================================================================================================================================================================================================================================================================================================================================================================================================================================] - 0s 569us/sample - loss: 0.4314 - acc: 0.7920\n",
      "9/9 [==============================] - 3s 291ms/step - loss: 0.6090 - acc: 0.7559 - val_loss: 0.4871 - val_acc: 0.7920\n",
      "0.7558479532163743\n",
      "1\n",
      "274/9 [=================================================================================================================================================================================================================================================================================================================================================================================================================================================================================================================================================================================================================================================================================================================================================================================================================================================================================================================================================] - 0s 645us/sample - loss: 0.3882 - acc: 0.7737\n"
     ]
    },
    {
     "name": "stdout",
     "output_type": "stream",
     "text": [
      "9/9 [==============================] - 3s 283ms/step - loss: 0.5763 - acc: 0.7623 - val_loss: 0.4583 - val_acc: 0.7737\n",
      "0.7587719298245614\n",
      "0\n",
      "274/9 [=================================================================================================================================================================================================================================================================================================================================================================================================================================================================================================================================================================================================================================================================================================================================================================================================================================================================================================================================================] - 0s 613us/sample - loss: 0.4063 - acc: 0.7810\n",
      "9/9 [==============================] - 3s 297ms/step - loss: 0.5870 - acc: 0.7642 - val_loss: 0.4729 - val_acc: 0.7810\n",
      "0.7602339181286549\n",
      "1\n",
      "274/9 [=================================================================================================================================================================================================================================================================================================================================================================================================================================================================================================================================================================================================================================================================================================================================================================================================================================================================================================================================================] - 0s 671us/sample - loss: 0.3652 - acc: 0.8175\n",
      "9/9 [==============================] - 3s 303ms/step - loss: 0.5803 - acc: 0.7623 - val_loss: 0.4347 - val_acc: 0.8175\n",
      "0.7573099415204678\n",
      "0\n",
      "274/9 [=================================================================================================================================================================================================================================================================================================================================================================================================================================================================================================================================================================================================================================================================================================================================================================================================================================================================================================================================================] - 0s 598us/sample - loss: 0.3734 - acc: 0.7920\n",
      "9/9 [==============================] - 3s 283ms/step - loss: 0.5764 - acc: 0.7779 - val_loss: 0.4404 - val_acc: 0.7920\n",
      "0.7763157894736842\n",
      "1\n",
      "274/9 [=================================================================================================================================================================================================================================================================================================================================================================================================================================================================================================================================================================================================================================================================================================================================================================================================================================================================================================================================================] - 0s 579us/sample - loss: 0.3492 - acc: 0.8029\n",
      "9/9 [==============================] - 3s 298ms/step - loss: 0.5683 - acc: 0.7733 - val_loss: 0.4229 - val_acc: 0.8029\n",
      "0.7646198830409356\n",
      "0\n",
      "274/9 [=================================================================================================================================================================================================================================================================================================================================================================================================================================================================================================================================================================================================================================================================================================================================================================================================================================================================================================================================================] - 0s 685us/sample - loss: 0.3980 - acc: 0.8102\n",
      "9/9 [==============================] - 3s 287ms/step - loss: 0.5520 - acc: 0.7815 - val_loss: 0.4730 - val_acc: 0.8102\n",
      "0.7587719298245614\n",
      "1\n",
      "274/9 [=================================================================================================================================================================================================================================================================================================================================================================================================================================================================================================================================================================================================================================================================================================================================================================================================================================================================================================================================================] - 0s 608us/sample - loss: 0.3569 - acc: 0.8139\n",
      "9/9 [==============================] - 3s 286ms/step - loss: 0.5680 - acc: 0.7861 - val_loss: 0.4199 - val_acc: 0.8139\n",
      "0.77046783625731\n",
      "0\n",
      "274/9 [=================================================================================================================================================================================================================================================================================================================================================================================================================================================================================================================================================================================================================================================================================================================================================================================================================================================================================================================================================] - 0s 672us/sample - loss: 0.3492 - acc: 0.8175\n",
      "9/9 [==============================] - 3s 288ms/step - loss: 0.5538 - acc: 0.7998 - val_loss: 0.4156 - val_acc: 0.8175\n",
      "0.7763157894736842\n",
      "0\n",
      "274/9 [=================================================================================================================================================================================================================================================================================================================================================================================================================================================================================================================================================================================================================================================================================================================================================================================================================================================================================================================================================] - 0s 648us/sample - loss: 0.3475 - acc: 0.8321\n"
     ]
    },
    {
     "name": "stdout",
     "output_type": "stream",
     "text": [
      "9/9 [==============================] - 3s 307ms/step - loss: 0.5525 - acc: 0.7907 - val_loss: 0.4133 - val_acc: 0.8321\n",
      "0.7690058479532164\n",
      "0\n",
      "274/9 [=================================================================================================================================================================================================================================================================================================================================================================================================================================================================================================================================================================================================================================================================================================================================================================================================================================================================================================================================================] - 0s 663us/sample - loss: 0.3615 - acc: 0.8139\n",
      "9/9 [==============================] - 3s 297ms/step - loss: 0.5571 - acc: 0.7916 - val_loss: 0.4281 - val_acc: 0.8139\n",
      "0.7573099415204678\n",
      "1\n",
      "274/9 [=================================================================================================================================================================================================================================================================================================================================================================================================================================================================================================================================================================================================================================================================================================================================================================================================================================================================================================================================================] - 0s 605us/sample - loss: 0.3919 - acc: 0.7920\n",
      "9/9 [==============================] - 3s 279ms/step - loss: 0.5628 - acc: 0.7797 - val_loss: 0.4447 - val_acc: 0.7920\n",
      "0.7763157894736842\n",
      "2\n",
      "274/9 [=================================================================================================================================================================================================================================================================================================================================================================================================================================================================================================================================================================================================================================================================================================================================================================================================================================================================================================================================================] - 0s 721us/sample - loss: 0.3412 - acc: 0.8358\n",
      "9/9 [==============================] - 3s 297ms/step - loss: 0.5558 - acc: 0.7843 - val_loss: 0.4113 - val_acc: 0.8358\n",
      "0.7777777777777778\n",
      "0\n",
      "274/9 [=================================================================================================================================================================================================================================================================================================================================================================================================================================================================================================================================================================================================================================================================================================================================================================================================================================================================================================================================================] - 0s 601us/sample - loss: 0.3417 - acc: 0.8358\n",
      "9/9 [==============================] - 3s 292ms/step - loss: 0.5260 - acc: 0.7898 - val_loss: 0.4040 - val_acc: 0.8358\n",
      "0.7777777777777778\n",
      "0\n",
      "274/9 [=================================================================================================================================================================================================================================================================================================================================================================================================================================================================================================================================================================================================================================================================================================================================================================================================================================================================================================================================================] - 0s 682us/sample - loss: 0.3455 - acc: 0.8285\n",
      "9/9 [==============================] - 3s 302ms/step - loss: 0.5259 - acc: 0.7952 - val_loss: 0.4065 - val_acc: 0.8285\n",
      "0.7763157894736842\n",
      "1\n",
      "274/9 [=================================================================================================================================================================================================================================================================================================================================================================================================================================================================================================================================================================================================================================================================================================================================================================================================================================================================================================================================================] - 0s 610us/sample - loss: 0.3282 - acc: 0.8394\n",
      "9/9 [==============================] - 3s 294ms/step - loss: 0.5224 - acc: 0.8007 - val_loss: 0.3987 - val_acc: 0.8394\n",
      "0.7748538011695907\n",
      "0\n",
      "274/9 [=================================================================================================================================================================================================================================================================================================================================================================================================================================================================================================================================================================================================================================================================================================================================================================================================================================================================================================================================================] - 0s 703us/sample - loss: 0.3833 - acc: 0.8285\n",
      "9/9 [==============================] - 3s 297ms/step - loss: 0.5479 - acc: 0.7925 - val_loss: 0.4551 - val_acc: 0.8285\n",
      "0.7821637426900585\n",
      "1\n",
      "274/9 [=================================================================================================================================================================================================================================================================================================================================================================================================================================================================================================================================================================================================================================================================================================================================================================================================================================================================================================================================================] - 0s 619us/sample - loss: 0.3234 - acc: 0.8394\n"
     ]
    },
    {
     "name": "stdout",
     "output_type": "stream",
     "text": [
      "9/9 [==============================] - 3s 289ms/step - loss: 0.5097 - acc: 0.8126 - val_loss: 0.3871 - val_acc: 0.8394\n",
      "0.7792397660818714\n",
      "0\n",
      "274/9 [=================================================================================================================================================================================================================================================================================================================================================================================================================================================================================================================================================================================================================================================================================================================================================================================================================================================================================================================================================] - 0s 588us/sample - loss: 0.3169 - acc: 0.8394\n",
      "9/9 [==============================] - 3s 287ms/step - loss: 0.5255 - acc: 0.8144 - val_loss: 0.3816 - val_acc: 0.8394\n",
      "0.7894736842105263\n",
      "0\n",
      "274/9 [=================================================================================================================================================================================================================================================================================================================================================================================================================================================================================================================================================================================================================================================================================================================================================================================================================================================================================================================================================] - 0s 647us/sample - loss: 0.3116 - acc: 0.8431\n",
      "9/9 [==============================] - 3s 292ms/step - loss: 0.5036 - acc: 0.8163 - val_loss: 0.3741 - val_acc: 0.8431\n",
      "0.7923976608187134\n",
      "0\n",
      "274/9 [=================================================================================================================================================================================================================================================================================================================================================================================================================================================================================================================================================================================================================================================================================================================================================================================================================================================================================================================================================] - 0s 590us/sample - loss: 0.3305 - acc: 0.8321\n",
      "9/9 [==============================] - 3s 301ms/step - loss: 0.5009 - acc: 0.8181 - val_loss: 0.3817 - val_acc: 0.8321\n",
      "0.7923976608187134\n",
      "1\n",
      "274/9 [=================================================================================================================================================================================================================================================================================================================================================================================================================================================================================================================================================================================================================================================================================================================================================================================================================================================================================================================================================] - 0s 599us/sample - loss: 0.2923 - acc: 0.8540\n",
      "9/9 [==============================] - 3s 291ms/step - loss: 0.5036 - acc: 0.8071 - val_loss: 0.3680 - val_acc: 0.8540\n",
      "0.7880116959064327\n",
      "0\n",
      "274/9 [=================================================================================================================================================================================================================================================================================================================================================================================================================================================================================================================================================================================================================================================================================================================================================================================================================================================================================================================================================] - 0s 631us/sample - loss: 0.3142 - acc: 0.8248\n",
      "9/9 [==============================] - 3s 299ms/step - loss: 0.4922 - acc: 0.8236 - val_loss: 0.3882 - val_acc: 0.8248\n",
      "0.783625730994152\n",
      "1\n",
      "274/9 [=================================================================================================================================================================================================================================================================================================================================================================================================================================================================================================================================================================================================================================================================================================================================================================================================================================================================================================================================================] - 0s 835us/sample - loss: 0.3085 - acc: 0.8321\n",
      "9/9 [==============================] - 3s 298ms/step - loss: 0.5094 - acc: 0.7989 - val_loss: 0.3774 - val_acc: 0.8321\n",
      "0.7850877192982456\n",
      "2\n",
      "274/9 [=================================================================================================================================================================================================================================================================================================================================================================================================================================================================================================================================================================================================================================================================================================================================================================================================================================================================================================================================================] - 0s 610us/sample - loss: 0.3624 - acc: 0.8394\n",
      "9/9 [==============================] - 3s 286ms/step - loss: 0.5156 - acc: 0.7989 - val_loss: 0.4233 - val_acc: 0.8394\n",
      "0.7967836257309941\n",
      "3\n",
      "274/9 [=================================================================================================================================================================================================================================================================================================================================================================================================================================================================================================================================================================================================================================================================================================================================================================================================================================================================================================================================================] - 0s 686us/sample - loss: 0.3346 - acc: 0.8467\n"
     ]
    },
    {
     "name": "stdout",
     "output_type": "stream",
     "text": [
      "9/9 [==============================] - 3s 290ms/step - loss: 0.5015 - acc: 0.8117 - val_loss: 0.3885 - val_acc: 0.8467\n",
      "0.7894736842105263\n",
      "4\n",
      "274/9 [=================================================================================================================================================================================================================================================================================================================================================================================================================================================================================================================================================================================================================================================================================================================================================================================================================================================================================================================================================] - 0s 810us/sample - loss: 0.3509 - acc: 0.8285\n",
      "9/9 [==============================] - 3s 295ms/step - loss: 0.5071 - acc: 0.8035 - val_loss: 0.3971 - val_acc: 0.8285\n",
      "0.7894736842105263\n",
      "5\n",
      "274/9 [=================================================================================================================================================================================================================================================================================================================================================================================================================================================================================================================================================================================================================================================================================================================================================================================================================================================================================================================================================] - 0s 574us/sample - loss: 0.3406 - acc: 0.8321\n",
      "9/9 [==============================] - 3s 296ms/step - loss: 0.4892 - acc: 0.8144 - val_loss: 0.4011 - val_acc: 0.8321\n",
      "0.7953216374269005\n",
      "6\n",
      "274/9 [=================================================================================================================================================================================================================================================================================================================================================================================================================================================================================================================================================================================================================================================================================================================================================================================================================================================================================================================================================] - 0s 601us/sample - loss: 0.3174 - acc: 0.8139\n",
      "9/9 [==============================] - 3s 284ms/step - loss: 0.4925 - acc: 0.8254 - val_loss: 0.3963 - val_acc: 0.8139\n",
      "0.783625730994152\n",
      "7\n",
      "274/9 [=================================================================================================================================================================================================================================================================================================================================================================================================================================================================================================================================================================================================================================================================================================================================================================================================================================================================================================================================================] - 0s 682us/sample - loss: 0.2908 - acc: 0.8431\n",
      "9/9 [==============================] - 3s 302ms/step - loss: 0.5005 - acc: 0.8053 - val_loss: 0.3660 - val_acc: 0.8431\n",
      "0.7850877192982456\n",
      "0\n",
      "274/9 [=================================================================================================================================================================================================================================================================================================================================================================================================================================================================================================================================================================================================================================================================================================================================================================================================================================================================================================================================================] - 0s 771us/sample - loss: 0.3094 - acc: 0.8504\n",
      "9/9 [==============================] - 3s 311ms/step - loss: 0.4859 - acc: 0.8099 - val_loss: 0.3691 - val_acc: 0.8504\n",
      "0.7997076023391813\n",
      "1\n",
      "274/9 [=================================================================================================================================================================================================================================================================================================================================================================================================================================================================================================================================================================================================================================================================================================================================================================================================================================================================================================================================================] - 0s 629us/sample - loss: 0.3055 - acc: 0.8467\n",
      "9/9 [==============================] - 3s 294ms/step - loss: 0.4585 - acc: 0.8318 - val_loss: 0.3669 - val_acc: 0.8467\n",
      "0.7865497076023392\n",
      "2\n",
      "274/9 [=================================================================================================================================================================================================================================================================================================================================================================================================================================================================================================================================================================================================================================================================================================================================================================================================================================================================================================================================================] - 0s 815us/sample - loss: 0.2949 - acc: 0.8504\n",
      "9/9 [==============================] - 3s 307ms/step - loss: 0.4601 - acc: 0.8327 - val_loss: 0.3615 - val_acc: 0.8504\n",
      "0.793859649122807\n",
      "0\n",
      "274/9 [=================================================================================================================================================================================================================================================================================================================================================================================================================================================================================================================================================================================================================================================================================================================================================================================================================================================================================================================================================] - 0s 700us/sample - loss: 0.3299 - acc: 0.8504\n"
     ]
    },
    {
     "name": "stdout",
     "output_type": "stream",
     "text": [
      "9/9 [==============================] - 3s 297ms/step - loss: 0.4792 - acc: 0.8190 - val_loss: 0.3749 - val_acc: 0.8504\n",
      "0.7953216374269005\n",
      "1\n",
      "274/9 [=================================================================================================================================================================================================================================================================================================================================================================================================================================================================================================================================================================================================================================================================================================================================================================================================================================================================================================================================================] - 0s 651us/sample - loss: 0.2898 - acc: 0.8540\n",
      "9/9 [==============================] - 3s 292ms/step - loss: 0.4675 - acc: 0.8181 - val_loss: 0.3510 - val_acc: 0.8540\n",
      "0.7967836257309941\n",
      "0\n",
      "274/9 [=================================================================================================================================================================================================================================================================================================================================================================================================================================================================================================================================================================================================================================================================================================================================================================================================================================================================================================================================================] - 0s 660us/sample - loss: 0.2995 - acc: 0.8540\n",
      "9/9 [==============================] - 3s 299ms/step - loss: 0.4382 - acc: 0.8373 - val_loss: 0.3668 - val_acc: 0.8540\n",
      "0.7997076023391813\n",
      "1\n",
      "274/9 [=================================================================================================================================================================================================================================================================================================================================================================================================================================================================================================================================================================================================================================================================================================================================================================================================================================================================================================================================================] - 0s 739us/sample - loss: 0.2866 - acc: 0.8540\n",
      "9/9 [==============================] - 3s 305ms/step - loss: 0.4694 - acc: 0.8199 - val_loss: 0.3529 - val_acc: 0.8540\n",
      "0.804093567251462\n",
      "2\n",
      "274/9 [=================================================================================================================================================================================================================================================================================================================================================================================================================================================================================================================================================================================================================================================================================================================================================================================================================================================================================================================================================] - 0s 732us/sample - loss: 0.2878 - acc: 0.8613\n",
      "9/9 [==============================] - 3s 300ms/step - loss: 0.4596 - acc: 0.8391 - val_loss: 0.3412 - val_acc: 0.8613\n",
      "0.814327485380117\n",
      "0\n",
      "274/9 [=================================================================================================================================================================================================================================================================================================================================================================================================================================================================================================================================================================================================================================================================================================================================================================================================================================================================================================================================================] - 0s 587us/sample - loss: 0.2814 - acc: 0.8613\n",
      "9/9 [==============================] - 3s 305ms/step - loss: 0.4482 - acc: 0.8309 - val_loss: 0.3394 - val_acc: 0.8613\n",
      "0.8084795321637427\n",
      "0\n",
      "274/9 [=================================================================================================================================================================================================================================================================================================================================================================================================================================================================================================================================================================================================================================================================================================================================================================================================================================================================================================================================================] - 0s 571us/sample - loss: 0.2624 - acc: 0.8577\n",
      "9/9 [==============================] - 3s 311ms/step - loss: 0.4512 - acc: 0.8391 - val_loss: 0.3304 - val_acc: 0.8577\n",
      "0.8070175438596491\n",
      "0\n",
      "274/9 [=================================================================================================================================================================================================================================================================================================================================================================================================================================================================================================================================================================================================================================================================================================================================================================================================================================================================================================================================================] - 0s 562us/sample - loss: 0.3243 - acc: 0.8577\n",
      "9/9 [==============================] - 3s 297ms/step - loss: 0.4615 - acc: 0.8272 - val_loss: 0.3706 - val_acc: 0.8577\n",
      "0.804093567251462\n",
      "1\n",
      "274/9 [=================================================================================================================================================================================================================================================================================================================================================================================================================================================================================================================================================================================================================================================================================================================================================================================================================================================================================================================================================] - 0s 595us/sample - loss: 0.2693 - acc: 0.8723\n"
     ]
    },
    {
     "name": "stdout",
     "output_type": "stream",
     "text": [
      "9/9 [==============================] - 3s 293ms/step - loss: 0.4388 - acc: 0.8410 - val_loss: 0.3330 - val_acc: 0.8723\n",
      "0.8055555555555556\n",
      "2\n",
      "274/9 [=================================================================================================================================================================================================================================================================================================================================================================================================================================================================================================================================================================================================================================================================================================================================================================================================================================================================================================================================================] - 0s 652us/sample - loss: 0.3165 - acc: 0.8613\n",
      "9/9 [==============================] - 3s 286ms/step - loss: 0.4363 - acc: 0.8446 - val_loss: 0.3599 - val_acc: 0.8613\n",
      "0.8084795321637427\n",
      "3\n",
      "274/9 [=================================================================================================================================================================================================================================================================================================================================================================================================================================================================================================================================================================================================================================================================================================================================================================================================================================================================================================================================================] - 0s 689us/sample - loss: 0.2858 - acc: 0.8686\n",
      "9/9 [==============================] - 3s 294ms/step - loss: 0.4249 - acc: 0.8464 - val_loss: 0.3421 - val_acc: 0.8686\n",
      "0.8055555555555556\n",
      "4\n",
      "274/9 [=================================================================================================================================================================================================================================================================================================================================================================================================================================================================================================================================================================================================================================================================================================================================================================================================================================================================================================================================================] - 0s 528us/sample - loss: 0.2550 - acc: 0.8577\n",
      "9/9 [==============================] - 3s 281ms/step - loss: 0.4190 - acc: 0.8419 - val_loss: 0.3280 - val_acc: 0.8577\n",
      "0.8114035087719298\n",
      "0\n",
      "274/9 [=================================================================================================================================================================================================================================================================================================================================================================================================================================================================================================================================================================================================================================================================================================================================================================================================================================================================================================================================================] - 0s 656us/sample - loss: 0.3057 - acc: 0.8577\n",
      "9/9 [==============================] - 3s 290ms/step - loss: 0.4328 - acc: 0.8355 - val_loss: 0.3529 - val_acc: 0.8577\n",
      "0.814327485380117\n",
      "1\n",
      "274/9 [=================================================================================================================================================================================================================================================================================================================================================================================================================================================================================================================================================================================================================================================================================================================================================================================================================================================================================================================================================] - 0s 638us/sample - loss: 0.3421 - acc: 0.8650\n",
      "9/9 [==============================] - 3s 292ms/step - loss: 0.4247 - acc: 0.8346 - val_loss: 0.3965 - val_acc: 0.8650\n",
      "0.8114035087719298\n",
      "2\n",
      "274/9 [=================================================================================================================================================================================================================================================================================================================================================================================================================================================================================================================================================================================================================================================================================================================================================================================================================================================================================================================================================] - 0s 821us/sample - loss: 0.3203 - acc: 0.8540\n",
      "9/9 [==============================] - 3s 295ms/step - loss: 0.4417 - acc: 0.8373 - val_loss: 0.3654 - val_acc: 0.8540\n",
      "0.8084795321637427\n",
      "3\n",
      "274/9 [=================================================================================================================================================================================================================================================================================================================================================================================================================================================================================================================================================================================================================================================================================================================================================================================================================================================================================================================================================] - 0s 705us/sample - loss: 0.3236 - acc: 0.8613\n",
      "9/9 [==============================] - 3s 296ms/step - loss: 0.4295 - acc: 0.8336 - val_loss: 0.3626 - val_acc: 0.8613\n",
      "0.8172514619883041\n",
      "4\n",
      "274/9 [=================================================================================================================================================================================================================================================================================================================================================================================================================================================================================================================================================================================================================================================================================================================================================================================================================================================================================================================================================] - 0s 707us/sample - loss: 0.2685 - acc: 0.8796\n"
     ]
    },
    {
     "name": "stdout",
     "output_type": "stream",
     "text": [
      "9/9 [==============================] - 3s 292ms/step - loss: 0.4232 - acc: 0.8373 - val_loss: 0.3250 - val_acc: 0.8796\n",
      "0.8099415204678363\n",
      "0\n",
      "274/9 [=================================================================================================================================================================================================================================================================================================================================================================================================================================================================================================================================================================================================================================================================================================================================================================================================================================================================================================================================================] - 0s 578us/sample - loss: 0.3023 - acc: 0.8759\n",
      "9/9 [==============================] - 3s 295ms/step - loss: 0.4214 - acc: 0.8437 - val_loss: 0.3645 - val_acc: 0.8759\n",
      "0.8172514619883041\n",
      "1\n",
      "274/9 [=================================================================================================================================================================================================================================================================================================================================================================================================================================================================================================================================================================================================================================================================================================================================================================================================================================================================================================================================================] - 0s 587us/sample - loss: 0.2670 - acc: 0.8650\n",
      "9/9 [==============================] - 3s 283ms/step - loss: 0.4147 - acc: 0.8400 - val_loss: 0.3264 - val_acc: 0.8650\n",
      "0.8157894736842105\n",
      "2\n",
      "274/9 [=================================================================================================================================================================================================================================================================================================================================================================================================================================================================================================================================================================================================================================================================================================================================================================================================================================================================================================================================================] - 0s 647us/sample - loss: 0.2933 - acc: 0.8759\n",
      "9/9 [==============================] - 3s 301ms/step - loss: 0.4060 - acc: 0.8455 - val_loss: 0.3355 - val_acc: 0.8759\n",
      "0.8260233918128655\n",
      "3\n",
      "274/9 [=================================================================================================================================================================================================================================================================================================================================================================================================================================================================================================================================================================================================================================================================================================================================================================================================================================================================================================================================================] - 0s 717us/sample - loss: 0.2691 - acc: 0.8723\n",
      "9/9 [==============================] - 3s 302ms/step - loss: 0.4228 - acc: 0.8373 - val_loss: 0.3255 - val_acc: 0.8723\n",
      "0.827485380116959\n",
      "4\n",
      "274/9 [=================================================================================================================================================================================================================================================================================================================================================================================================================================================================================================================================================================================================================================================================================================================================================================================================================================================================================================================================================] - 0s 622us/sample - loss: 0.3365 - acc: 0.8650\n",
      "9/9 [==============================] - 3s 301ms/step - loss: 0.4087 - acc: 0.8428 - val_loss: 0.3790 - val_acc: 0.8650\n",
      "0.8289473684210527\n",
      "5\n",
      "274/9 [=================================================================================================================================================================================================================================================================================================================================================================================================================================================================================================================================================================================================================================================================================================================================================================================================================================================================================================================================================] - 0s 638us/sample - loss: 0.2942 - acc: 0.8759\n",
      "9/9 [==============================] - 3s 293ms/step - loss: 0.4077 - acc: 0.8501 - val_loss: 0.3395 - val_acc: 0.8759\n",
      "0.8187134502923976\n",
      "6\n",
      "274/9 [=================================================================================================================================================================================================================================================================================================================================================================================================================================================================================================================================================================================================================================================================================================================================================================================================================================================================================================================================================] - 0s 624us/sample - loss: 0.2800 - acc: 0.8759\n",
      "9/9 [==============================] - 3s 300ms/step - loss: 0.3991 - acc: 0.8483 - val_loss: 0.3394 - val_acc: 0.8759\n",
      "0.8201754385964912\n",
      "7\n",
      "274/9 [=================================================================================================================================================================================================================================================================================================================================================================================================================================================================================================================================================================================================================================================================================================================================================================================================================================================================================================================================================] - 0s 686us/sample - loss: 0.2857 - acc: 0.8650\n"
     ]
    },
    {
     "name": "stdout",
     "output_type": "stream",
     "text": [
      "9/9 [==============================] - 3s 317ms/step - loss: 0.3922 - acc: 0.8556 - val_loss: 0.3355 - val_acc: 0.8650\n",
      "0.8260233918128655\n",
      "8\n",
      "274/9 [=================================================================================================================================================================================================================================================================================================================================================================================================================================================================================================================================================================================================================================================================================================================================================================================================================================================================================================================================================] - 0s 675us/sample - loss: 0.2826 - acc: 0.8759\n",
      "9/9 [==============================] - 3s 301ms/step - loss: 0.3996 - acc: 0.8492 - val_loss: 0.3346 - val_acc: 0.8759\n",
      "0.8157894736842105\n",
      "9\n",
      "274/9 [=================================================================================================================================================================================================================================================================================================================================================================================================================================================================================================================================================================================================================================================================================================================================================================================================================================================================================================================================================] - 0s 581us/sample - loss: 0.3133 - acc: 0.8832\n",
      "9/9 [==============================] - 3s 296ms/step - loss: 0.3926 - acc: 0.8556 - val_loss: 0.3487 - val_acc: 0.8832\n",
      "0.8289473684210527\n",
      "10\n",
      "274/9 [=================================================================================================================================================================================================================================================================================================================================================================================================================================================================================================================================================================================================================================================================================================================================================================================================================================================================================================================================================] - 0s 563us/sample - loss: 0.2591 - acc: 0.8723\n",
      "9/9 [==============================] - 3s 299ms/step - loss: 0.4092 - acc: 0.8501 - val_loss: 0.3217 - val_acc: 0.8723\n",
      "0.814327485380117\n",
      "0\n",
      "274/9 [=================================================================================================================================================================================================================================================================================================================================================================================================================================================================================================================================================================================================================================================================================================================================================================================================================================================================================================================================================] - 0s 651us/sample - loss: 0.2839 - acc: 0.8613\n",
      "9/9 [==============================] - 3s 297ms/step - loss: 0.4025 - acc: 0.8446 - val_loss: 0.3375 - val_acc: 0.8613\n",
      "0.8230994152046783\n",
      "1\n",
      "274/9 [=================================================================================================================================================================================================================================================================================================================================================================================================================================================================================================================================================================================================================================================================================================================================================================================================================================================================================================================================================] - 0s 765us/sample - loss: 0.3345 - acc: 0.8613\n",
      "9/9 [==============================] - 3s 292ms/step - loss: 0.3850 - acc: 0.8528 - val_loss: 0.3678 - val_acc: 0.8613\n",
      "0.827485380116959\n",
      "2\n",
      "274/9 [=================================================================================================================================================================================================================================================================================================================================================================================================================================================================================================================================================================================================================================================================================================================================================================================================================================================================================================================================================] - 0s 618us/sample - loss: 0.2785 - acc: 0.8613\n",
      "9/9 [==============================] - 3s 301ms/step - loss: 0.3965 - acc: 0.8583 - val_loss: 0.3284 - val_acc: 0.8613\n",
      "0.8347953216374269\n",
      "3\n",
      "274/9 [=================================================================================================================================================================================================================================================================================================================================================================================================================================================================================================================================================================================================================================================================================================================================================================================================================================================================================================================================================] - 0s 583us/sample - loss: 0.2753 - acc: 0.8577\n",
      "9/9 [==============================] - 3s 281ms/step - loss: 0.3677 - acc: 0.8583 - val_loss: 0.3293 - val_acc: 0.8577\n",
      "0.8260233918128655\n",
      "4\n",
      "274/9 [=================================================================================================================================================================================================================================================================================================================================================================================================================================================================================================================================================================================================================================================================================================================================================================================================================================================================================================================================================] - 0s 629us/sample - loss: 0.2671 - acc: 0.8723\n"
     ]
    },
    {
     "name": "stdout",
     "output_type": "stream",
     "text": [
      "9/9 [==============================] - 3s 293ms/step - loss: 0.3797 - acc: 0.8611 - val_loss: 0.3170 - val_acc: 0.8723\n",
      "0.8333333333333334\n",
      "0\n",
      "274/9 [=================================================================================================================================================================================================================================================================================================================================================================================================================================================================================================================================================================================================================================================================================================================================================================================================================================================================================================================================================] - 0s 571us/sample - loss: 0.3479 - acc: 0.8613\n",
      "9/9 [==============================] - 3s 300ms/step - loss: 0.3909 - acc: 0.8601 - val_loss: 0.3846 - val_acc: 0.8613\n",
      "0.8128654970760234\n",
      "1\n",
      "274/9 [=================================================================================================================================================================================================================================================================================================================================================================================================================================================================================================================================================================================================================================================================================================================================================================================================================================================================================================================================================] - 0s 682us/sample - loss: 0.3081 - acc: 0.8796\n",
      "9/9 [==============================] - 3s 287ms/step - loss: 0.3936 - acc: 0.8601 - val_loss: 0.3537 - val_acc: 0.8796\n",
      "0.827485380116959\n",
      "2\n",
      "274/9 [=================================================================================================================================================================================================================================================================================================================================================================================================================================================================================================================================================================================================================================================================================================================================================================================================================================================================================================================================================] - 0s 748us/sample - loss: 0.2749 - acc: 0.8759\n",
      "9/9 [==============================] - 3s 292ms/step - loss: 0.3839 - acc: 0.8574 - val_loss: 0.3289 - val_acc: 0.8759\n",
      "0.8230994152046783\n",
      "3\n",
      "274/9 [=================================================================================================================================================================================================================================================================================================================================================================================================================================================================================================================================================================================================================================================================================================================================================================================================================================================================================================================================================] - 0s 598us/sample - loss: 0.2259 - acc: 0.8832\n",
      "9/9 [==============================] - 3s 308ms/step - loss: 0.3809 - acc: 0.8583 - val_loss: 0.3055 - val_acc: 0.8832\n",
      "0.8289473684210527\n",
      "0\n",
      "274/9 [=================================================================================================================================================================================================================================================================================================================================================================================================================================================================================================================================================================================================================================================================================================================================================================================================================================================================================================================================================] - 0s 665us/sample - loss: 0.2648 - acc: 0.8796\n",
      "9/9 [==============================] - 3s 304ms/step - loss: 0.3753 - acc: 0.8583 - val_loss: 0.3179 - val_acc: 0.8796\n",
      "0.8318713450292398\n",
      "1\n",
      "274/9 [=================================================================================================================================================================================================================================================================================================================================================================================================================================================================================================================================================================================================================================================================================================================================================================================================================================================================================================================================================] - 0s 626us/sample - loss: 0.2309 - acc: 0.8796\n",
      "9/9 [==============================] - 3s 294ms/step - loss: 0.3746 - acc: 0.8592 - val_loss: 0.3051 - val_acc: 0.8796\n",
      "0.8318713450292398\n",
      "2\n",
      "274/9 [=================================================================================================================================================================================================================================================================================================================================================================================================================================================================================================================================================================================================================================================================================================================================================================================================================================================================================================================================================] - 0s 564us/sample - loss: 0.2671 - acc: 0.8723\n",
      "9/9 [==============================] - 3s 287ms/step - loss: 0.4037 - acc: 0.8528 - val_loss: 0.3227 - val_acc: 0.8723\n",
      "0.8318713450292398\n",
      "3\n",
      "274/9 [=================================================================================================================================================================================================================================================================================================================================================================================================================================================================================================================================================================================================================================================================================================================================================================================================================================================================================================================================================] - 0s 708us/sample - loss: 0.2603 - acc: 0.8723\n"
     ]
    },
    {
     "name": "stdout",
     "output_type": "stream",
     "text": [
      "9/9 [==============================] - 3s 306ms/step - loss: 0.3676 - acc: 0.8720 - val_loss: 0.3181 - val_acc: 0.8723\n",
      "0.8347953216374269\n",
      "4\n",
      "274/9 [=================================================================================================================================================================================================================================================================================================================================================================================================================================================================================================================================================================================================================================================================================================================================================================================================================================================================================================================================================] - 0s 642us/sample - loss: 0.3111 - acc: 0.8796\n",
      "9/9 [==============================] - 3s 285ms/step - loss: 0.3710 - acc: 0.8583 - val_loss: 0.3487 - val_acc: 0.8796\n",
      "0.8318713450292398\n",
      "5\n",
      "274/9 [=================================================================================================================================================================================================================================================================================================================================================================================================================================================================================================================================================================================================================================================================================================================================================================================================================================================================================================================================================] - 0s 590us/sample - loss: 0.2613 - acc: 0.8796\n",
      "9/9 [==============================] - 3s 293ms/step - loss: 0.3780 - acc: 0.8693 - val_loss: 0.3075 - val_acc: 0.8796\n",
      "0.8260233918128655\n",
      "6\n",
      "274/9 [=================================================================================================================================================================================================================================================================================================================================================================================================================================================================================================================================================================================================================================================================================================================================================================================================================================================================================================================================================] - 0s 716us/sample - loss: 0.3123 - acc: 0.8613\n",
      "9/9 [==============================] - 3s 303ms/step - loss: 0.3616 - acc: 0.8638 - val_loss: 0.3483 - val_acc: 0.8613\n",
      "0.8289473684210527\n",
      "7\n",
      "274/9 [=================================================================================================================================================================================================================================================================================================================================================================================================================================================================================================================================================================================================================================================================================================================================================================================================================================================================================================================================================] - 0s 627us/sample - loss: 0.2990 - acc: 0.8796\n",
      "9/9 [==============================] - 3s 302ms/step - loss: 0.3574 - acc: 0.8675 - val_loss: 0.3377 - val_acc: 0.8796\n",
      "0.8333333333333334\n",
      "8\n",
      "274/9 [=================================================================================================================================================================================================================================================================================================================================================================================================================================================================================================================================================================================================================================================================================================================================================================================================================================================================================================================================================] - 0s 650us/sample - loss: 0.2428 - acc: 0.8869\n",
      "9/9 [==============================] - 3s 301ms/step - loss: 0.3644 - acc: 0.8647 - val_loss: 0.2905 - val_acc: 0.8869\n",
      "0.8318713450292398\n",
      "0\n",
      "274/9 [=================================================================================================================================================================================================================================================================================================================================================================================================================================================================================================================================================================================================================================================================================================================================================================================================================================================================================================================================================] - 0s 650us/sample - loss: 0.2707 - acc: 0.8832\n",
      "9/9 [==============================] - 3s 291ms/step - loss: 0.3634 - acc: 0.8675 - val_loss: 0.3118 - val_acc: 0.8832\n",
      "0.8391812865497076\n",
      "1\n",
      "274/9 [=================================================================================================================================================================================================================================================================================================================================================================================================================================================================================================================================================================================================================================================================================================================================================================================================================================================================================================================================================] - 0s 572us/sample - loss: 0.2344 - acc: 0.8723\n",
      "9/9 [==============================] - 3s 285ms/step - loss: 0.3627 - acc: 0.8665 - val_loss: 0.2997 - val_acc: 0.8723\n",
      "0.8318713450292398\n",
      "2\n",
      "274/9 [=================================================================================================================================================================================================================================================================================================================================================================================================================================================================================================================================================================================================================================================================================================================================================================================================================================================================================================================================================] - 0s 705us/sample - loss: 0.2415 - acc: 0.8905\n"
     ]
    },
    {
     "name": "stdout",
     "output_type": "stream",
     "text": [
      "9/9 [==============================] - 3s 292ms/step - loss: 0.3633 - acc: 0.8556 - val_loss: 0.2977 - val_acc: 0.8905\n",
      "0.8391812865497076\n",
      "3\n",
      "274/9 [=================================================================================================================================================================================================================================================================================================================================================================================================================================================================================================================================================================================================================================================================================================================================================================================================================================================================================================================================================] - 0s 784us/sample - loss: 0.2460 - acc: 0.8796\n",
      "9/9 [==============================] - 3s 293ms/step - loss: 0.3614 - acc: 0.8611 - val_loss: 0.3061 - val_acc: 0.8796\n",
      "0.8435672514619883\n",
      "4\n",
      "274/9 [=================================================================================================================================================================================================================================================================================================================================================================================================================================================================================================================================================================================================================================================================================================================================================================================================================================================================================================================================================] - 0s 724us/sample - loss: 0.2441 - acc: 0.8759\n",
      "9/9 [==============================] - 3s 294ms/step - loss: 0.3592 - acc: 0.8583 - val_loss: 0.3075 - val_acc: 0.8759\n",
      "0.8362573099415205\n",
      "5\n",
      "274/9 [=================================================================================================================================================================================================================================================================================================================================================================================================================================================================================================================================================================================================================================================================================================================================================================================================================================================================================================================================================] - 0s 605us/sample - loss: 0.2537 - acc: 0.8759\n",
      "9/9 [==============================] - 3s 300ms/step - loss: 0.3712 - acc: 0.8565 - val_loss: 0.3161 - val_acc: 0.8759\n",
      "0.8304093567251462\n",
      "6\n",
      "274/9 [=================================================================================================================================================================================================================================================================================================================================================================================================================================================================================================================================================================================================================================================================================================================================================================================================================================================================================================================================================] - 0s 781us/sample - loss: 0.2206 - acc: 0.8723\n",
      "9/9 [==============================] - 3s 291ms/step - loss: 0.3569 - acc: 0.8565 - val_loss: 0.3058 - val_acc: 0.8723\n",
      "0.827485380116959\n",
      "7\n",
      "274/9 [=================================================================================================================================================================================================================================================================================================================================================================================================================================================================================================================================================================================================================================================================================================================================================================================================================================================================================================================================================] - 0s 676us/sample - loss: 0.2427 - acc: 0.8869\n",
      "9/9 [==============================] - 3s 308ms/step - loss: 0.3656 - acc: 0.8574 - val_loss: 0.2959 - val_acc: 0.8869\n",
      "0.8362573099415205\n",
      "8\n",
      "274/9 [=================================================================================================================================================================================================================================================================================================================================================================================================================================================================================================================================================================================================================================================================================================================================================================================================================================================================================================================================================] - 0s 656us/sample - loss: 0.2589 - acc: 0.8650\n",
      "9/9 [==============================] - 3s 306ms/step - loss: 0.3548 - acc: 0.8638 - val_loss: 0.3105 - val_acc: 0.8650\n",
      "0.8347953216374269\n",
      "9\n",
      "274/9 [=================================================================================================================================================================================================================================================================================================================================================================================================================================================================================================================================================================================================================================================================================================================================================================================================================================================================================================================================================] - 0s 677us/sample - loss: 0.2362 - acc: 0.8869\n",
      "9/9 [==============================] - 3s 290ms/step - loss: 0.3503 - acc: 0.8629 - val_loss: 0.2908 - val_acc: 0.8869\n",
      "0.8377192982456141\n",
      "10\n",
      "274/9 [=================================================================================================================================================================================================================================================================================================================================================================================================================================================================================================================================================================================================================================================================================================================================================================================================================================================================================================================================================] - 0s 642us/sample - loss: 0.3255 - acc: 0.8759\n"
     ]
    },
    {
     "name": "stdout",
     "output_type": "stream",
     "text": [
      "9/9 [==============================] - 3s 314ms/step - loss: 0.3431 - acc: 0.8720 - val_loss: 0.3539 - val_acc: 0.8759\n",
      "0.8377192982456141\n",
      "11\n",
      "274/9 [=================================================================================================================================================================================================================================================================================================================================================================================================================================================================================================================================================================================================================================================================================================================================================================================================================================================================================================================================================] - 0s 655us/sample - loss: 0.2260 - acc: 0.8832\n",
      "9/9 [==============================] - 3s 304ms/step - loss: 0.3720 - acc: 0.8647 - val_loss: 0.2908 - val_acc: 0.8832\n",
      "0.8421052631578947\n",
      "12\n",
      "274/9 [=================================================================================================================================================================================================================================================================================================================================================================================================================================================================================================================================================================================================================================================================================================================================================================================================================================================================================================================================================] - 0s 664us/sample - loss: 0.2025 - acc: 0.8869\n",
      "9/9 [==============================] - 3s 292ms/step - loss: 0.3436 - acc: 0.8748 - val_loss: 0.2704 - val_acc: 0.8869\n",
      "0.8450292397660819\n",
      "0\n",
      "274/9 [=================================================================================================================================================================================================================================================================================================================================================================================================================================================================================================================================================================================================================================================================================================================================================================================================================================================================================================================================================] - 0s 708us/sample - loss: 0.2210 - acc: 0.8942\n",
      "9/9 [==============================] - 3s 325ms/step - loss: 0.3451 - acc: 0.8693 - val_loss: 0.2805 - val_acc: 0.8942\n",
      "0.8406432748538012\n",
      "1\n",
      "274/9 [=================================================================================================================================================================================================================================================================================================================================================================================================================================================================================================================================================================================================================================================================================================================================================================================================================================================================================================================================================] - 0s 633us/sample - loss: 0.2271 - acc: 0.8832\n",
      "9/9 [==============================] - 3s 292ms/step - loss: 0.3477 - acc: 0.8766 - val_loss: 0.2877 - val_acc: 0.8832\n",
      "0.8450292397660819\n",
      "2\n",
      "274/9 [=================================================================================================================================================================================================================================================================================================================================================================================================================================================================================================================================================================================================================================================================================================================================================================================================================================================================================================================================================] - 0s 573us/sample - loss: 0.2185 - acc: 0.8796\n",
      "9/9 [==============================] - 3s 292ms/step - loss: 0.3439 - acc: 0.8784 - val_loss: 0.2901 - val_acc: 0.8796\n",
      "0.8464912280701754\n",
      "3\n",
      "274/9 [=================================================================================================================================================================================================================================================================================================================================================================================================================================================================================================================================================================================================================================================================================================================================================================================================================================================================================================================================================] - 0s 564us/sample - loss: 0.2073 - acc: 0.8905\n",
      "9/9 [==============================] - 3s 283ms/step - loss: 0.3310 - acc: 0.8766 - val_loss: 0.2728 - val_acc: 0.8905\n",
      "0.8435672514619883\n",
      "4\n",
      "274/9 [=================================================================================================================================================================================================================================================================================================================================================================================================================================================================================================================================================================================================================================================================================================================================================================================================================================================================================================================================================] - 0s 682us/sample - loss: 0.2304 - acc: 0.8869\n",
      "9/9 [==============================] - 3s 305ms/step - loss: 0.3357 - acc: 0.8720 - val_loss: 0.2855 - val_acc: 0.8869\n",
      "0.8435672514619883\n",
      "5\n",
      "274/9 [=================================================================================================================================================================================================================================================================================================================================================================================================================================================================================================================================================================================================================================================================================================================================================================================================================================================================================================================================================] - 0s 738us/sample - loss: 0.2233 - acc: 0.8869\n"
     ]
    },
    {
     "name": "stdout",
     "output_type": "stream",
     "text": [
      "9/9 [==============================] - 3s 300ms/step - loss: 0.3373 - acc: 0.8729 - val_loss: 0.2828 - val_acc: 0.8869\n",
      "0.8464912280701754\n",
      "6\n",
      "274/9 [=================================================================================================================================================================================================================================================================================================================================================================================================================================================================================================================================================================================================================================================================================================================================================================================================================================================================================================================================================] - 0s 618us/sample - loss: 0.2371 - acc: 0.8650\n",
      "9/9 [==============================] - 3s 290ms/step - loss: 0.3357 - acc: 0.8693 - val_loss: 0.3212 - val_acc: 0.8650\n",
      "0.8391812865497076\n",
      "7\n",
      "274/9 [=================================================================================================================================================================================================================================================================================================================================================================================================================================================================================================================================================================================================================================================================================================================================================================================================================================================================================================================================================] - 0s 556us/sample - loss: 0.2224 - acc: 0.8832\n",
      "9/9 [==============================] - 3s 295ms/step - loss: 0.3325 - acc: 0.8729 - val_loss: 0.2827 - val_acc: 0.8832\n",
      "0.847953216374269\n",
      "8\n",
      "274/9 [=================================================================================================================================================================================================================================================================================================================================================================================================================================================================================================================================================================================================================================================================================================================================================================================================================================================================================================================================================] - 0s 666us/sample - loss: 0.2927 - acc: 0.8942\n",
      "9/9 [==============================] - 3s 305ms/step - loss: 0.3481 - acc: 0.8757 - val_loss: 0.3271 - val_acc: 0.8942\n",
      "0.8421052631578947\n",
      "9\n",
      "274/9 [=================================================================================================================================================================================================================================================================================================================================================================================================================================================================================================================================================================================================================================================================================================================================================================================================================================================================================================================================================] - 0s 599us/sample - loss: 0.2140 - acc: 0.8869\n",
      "9/9 [==============================] - 3s 297ms/step - loss: 0.3332 - acc: 0.8812 - val_loss: 0.2755 - val_acc: 0.8869\n",
      "0.8464912280701754\n",
      "10\n",
      "274/9 [=================================================================================================================================================================================================================================================================================================================================================================================================================================================================================================================================================================================================================================================================================================================================================================================================================================================================================================================================================] - 0s 628us/sample - loss: 0.2111 - acc: 0.8796\n",
      "9/9 [==============================] - 3s 295ms/step - loss: 0.3376 - acc: 0.8803 - val_loss: 0.2912 - val_acc: 0.8796\n",
      "0.8391812865497076\n",
      "11\n",
      "274/9 [=================================================================================================================================================================================================================================================================================================================================================================================================================================================================================================================================================================================================================================================================================================================================================================================================================================================================================================================================================] - 0s 698us/sample - loss: 0.2155 - acc: 0.8942\n",
      "9/9 [==============================] - 3s 297ms/step - loss: 0.3292 - acc: 0.8693 - val_loss: 0.2714 - val_acc: 0.8942\n",
      "0.8523391812865497\n",
      "12\n",
      "274/9 [=================================================================================================================================================================================================================================================================================================================================================================================================================================================================================================================================================================================================================================================================================================================================================================================================================================================================================================================================================] - 0s 549us/sample - loss: 0.2242 - acc: 0.9015\n",
      "9/9 [==============================] - 3s 288ms/step - loss: 0.3342 - acc: 0.8739 - val_loss: 0.2782 - val_acc: 0.9015\n",
      "0.8347953216374269\n",
      "13\n",
      "274/9 [=================================================================================================================================================================================================================================================================================================================================================================================================================================================================================================================================================================================================================================================================================================================================================================================================================================================================================================================================================] - 0s 534us/sample - loss: 0.2255 - acc: 0.8942\n"
     ]
    },
    {
     "name": "stdout",
     "output_type": "stream",
     "text": [
      "9/9 [==============================] - 3s 295ms/step - loss: 0.3391 - acc: 0.8748 - val_loss: 0.2756 - val_acc: 0.8942\n",
      "0.8435672514619883\n",
      "14\n",
      "274/9 [=================================================================================================================================================================================================================================================================================================================================================================================================================================================================================================================================================================================================================================================================================================================================================================================================================================================================================================================================================] - 0s 591us/sample - loss: 0.2292 - acc: 0.8869\n",
      "9/9 [==============================] - 3s 301ms/step - loss: 0.3320 - acc: 0.8748 - val_loss: 0.2808 - val_acc: 0.8869\n",
      "0.8421052631578947\n",
      "15\n",
      "274/9 [=================================================================================================================================================================================================================================================================================================================================================================================================================================================================================================================================================================================================================================================================================================================================================================================================================================================================================================================================================] - 0s 564us/sample - loss: 0.2264 - acc: 0.8905\n",
      "9/9 [==============================] - 3s 303ms/step - loss: 0.3448 - acc: 0.8729 - val_loss: 0.2837 - val_acc: 0.8905\n",
      "0.8333333333333334\n",
      "16\n",
      "274/9 [=================================================================================================================================================================================================================================================================================================================================================================================================================================================================================================================================================================================================================================================================================================================================================================================================================================================================================================================================================] - 0s 536us/sample - loss: 0.2093 - acc: 0.8905\n",
      "9/9 [==============================] - 3s 289ms/step - loss: 0.3417 - acc: 0.8675 - val_loss: 0.2693 - val_acc: 0.8905\n",
      "0.8391812865497076\n",
      "0\n",
      "274/9 [=================================================================================================================================================================================================================================================================================================================================================================================================================================================================================================================================================================================================================================================================================================================================================================================================================================================================================================================================================] - 0s 606us/sample - loss: 0.2332 - acc: 0.8796\n",
      "9/9 [==============================] - 3s 305ms/step - loss: 0.3424 - acc: 0.8720 - val_loss: 0.2889 - val_acc: 0.8796\n",
      "0.8362573099415205\n",
      "1\n",
      "274/9 [=================================================================================================================================================================================================================================================================================================================================================================================================================================================================================================================================================================================================================================================================================================================================================================================================================================================================================================================================================] - 0s 611us/sample - loss: 0.3426 - acc: 0.8796\n",
      "9/9 [==============================] - 3s 299ms/step - loss: 0.3399 - acc: 0.8812 - val_loss: 0.3572 - val_acc: 0.8796\n",
      "0.8318713450292398\n",
      "2\n",
      "274/9 [=================================================================================================================================================================================================================================================================================================================================================================================================================================================================================================================================================================================================================================================================================================================================================================================================================================================================================================================================================] - 0s 657us/sample - loss: 0.2483 - acc: 0.8759\n",
      "9/9 [==============================] - 3s 290ms/step - loss: 0.3468 - acc: 0.8583 - val_loss: 0.2957 - val_acc: 0.8759\n",
      "0.8421052631578947\n",
      "3\n",
      "274/9 [=================================================================================================================================================================================================================================================================================================================================================================================================================================================================================================================================================================================================================================================================================================================================================================================================================================================================================================================================================] - 0s 676us/sample - loss: 0.1947 - acc: 0.8832\n",
      "9/9 [==============================] - 3s 304ms/step - loss: 0.3326 - acc: 0.8812 - val_loss: 0.2655 - val_acc: 0.8832\n",
      "0.8406432748538012\n",
      "0\n",
      "274/9 [=================================================================================================================================================================================================================================================================================================================================================================================================================================================================================================================================================================================================================================================================================================================================================================================================================================================================================================================================================] - 0s 687us/sample - loss: 0.1898 - acc: 0.8905\n"
     ]
    },
    {
     "name": "stdout",
     "output_type": "stream",
     "text": [
      "9/9 [==============================] - 3s 310ms/step - loss: 0.3178 - acc: 0.8839 - val_loss: 0.2573 - val_acc: 0.8905\n",
      "0.8523391812865497\n",
      "0\n",
      "274/9 [=================================================================================================================================================================================================================================================================================================================================================================================================================================================================================================================================================================================================================================================================================================================================================================================================================================================================================================================================================] - 0s 602us/sample - loss: 0.2151 - acc: 0.8905\n",
      "9/9 [==============================] - 3s 299ms/step - loss: 0.3136 - acc: 0.8949 - val_loss: 0.2649 - val_acc: 0.8905\n",
      "0.8523391812865497\n",
      "1\n",
      "274/9 [=================================================================================================================================================================================================================================================================================================================================================================================================================================================================================================================================================================================================================================================================================================================================================================================================================================================================================================================================================] - 0s 674us/sample - loss: 0.2017 - acc: 0.8978\n",
      "9/9 [==============================] - 3s 294ms/step - loss: 0.3397 - acc: 0.8803 - val_loss: 0.2601 - val_acc: 0.8978\n",
      "0.8494152046783626\n",
      "2\n",
      "274/9 [=================================================================================================================================================================================================================================================================================================================================================================================================================================================================================================================================================================================================================================================================================================================================================================================================================================================================================================================================================] - 0s 659us/sample - loss: 0.2582 - acc: 0.8978\n",
      "9/9 [==============================] - 3s 298ms/step - loss: 0.3100 - acc: 0.8857 - val_loss: 0.2995 - val_acc: 0.8978\n",
      "0.8538011695906432\n",
      "3\n",
      "274/9 [=================================================================================================================================================================================================================================================================================================================================================================================================================================================================================================================================================================================================================================================================================================================================================================================================================================================================================================================================================] - 0s 597us/sample - loss: 0.1924 - acc: 0.9015\n",
      "9/9 [==============================] - 3s 295ms/step - loss: 0.3289 - acc: 0.8729 - val_loss: 0.2524 - val_acc: 0.9015\n",
      "0.8508771929824561\n",
      "0\n",
      "274/9 [=================================================================================================================================================================================================================================================================================================================================================================================================================================================================================================================================================================================================================================================================================================================================================================================================================================================================================================================================================] - 0s 565us/sample - loss: 0.2159 - acc: 0.8905\n",
      "9/9 [==============================] - 3s 303ms/step - loss: 0.3036 - acc: 0.8766 - val_loss: 0.2662 - val_acc: 0.8905\n",
      "0.8494152046783626\n",
      "1\n",
      "274/9 [=================================================================================================================================================================================================================================================================================================================================================================================================================================================================================================================================================================================================================================================================================================================================================================================================================================================================================================================================================] - 0s 667us/sample - loss: 0.2117 - acc: 0.8942\n",
      "9/9 [==============================] - 3s 311ms/step - loss: 0.3174 - acc: 0.8839 - val_loss: 0.2702 - val_acc: 0.8942\n",
      "0.8494152046783626\n",
      "2\n",
      "274/9 [=================================================================================================================================================================================================================================================================================================================================================================================================================================================================================================================================================================================================================================================================================================================================================================================================================================================================================================================================================] - 0s 628us/sample - loss: 0.2019 - acc: 0.8905\n",
      "9/9 [==============================] - 3s 298ms/step - loss: 0.2975 - acc: 0.8757 - val_loss: 0.2675 - val_acc: 0.8905\n",
      "0.847953216374269\n",
      "3\n",
      "274/9 [=================================================================================================================================================================================================================================================================================================================================================================================================================================================================================================================================================================================================================================================================================================================================================================================================================================================================================================================================================] - 0s 730us/sample - loss: 0.2039 - acc: 0.8942\n"
     ]
    },
    {
     "name": "stdout",
     "output_type": "stream",
     "text": [
      "9/9 [==============================] - 3s 300ms/step - loss: 0.2982 - acc: 0.8876 - val_loss: 0.2716 - val_acc: 0.8942\n",
      "0.8464912280701754\n",
      "4\n",
      "274/9 [=================================================================================================================================================================================================================================================================================================================================================================================================================================================================================================================================================================================================================================================================================================================================================================================================================================================================================================================================================] - 0s 588us/sample - loss: 0.2036 - acc: 0.8905\n",
      "9/9 [==============================] - 3s 300ms/step - loss: 0.3016 - acc: 0.8848 - val_loss: 0.2664 - val_acc: 0.8905\n",
      "0.8494152046783626\n",
      "5\n",
      "274/9 [=================================================================================================================================================================================================================================================================================================================================================================================================================================================================================================================================================================================================================================================================================================================================================================================================================================================================================================================================================] - 0s 623us/sample - loss: 0.2029 - acc: 0.8978\n",
      "9/9 [==============================] - 3s 289ms/step - loss: 0.3133 - acc: 0.8821 - val_loss: 0.2660 - val_acc: 0.8978\n",
      "0.8538011695906432\n",
      "6\n",
      "274/9 [=================================================================================================================================================================================================================================================================================================================================================================================================================================================================================================================================================================================================================================================================================================================================================================================================================================================================================================================================================] - 0s 680us/sample - loss: 0.3094 - acc: 0.8869\n",
      "9/9 [==============================] - 3s 297ms/step - loss: 0.3255 - acc: 0.8720 - val_loss: 0.3187 - val_acc: 0.8869\n",
      "0.8611111111111112\n",
      "7\n",
      "274/9 [=================================================================================================================================================================================================================================================================================================================================================================================================================================================================================================================================================================================================================================================================================================================================================================================================================================================================================================================================================] - 0s 712us/sample - loss: 0.1802 - acc: 0.8978\n",
      "9/9 [==============================] - 3s 306ms/step - loss: 0.3081 - acc: 0.8793 - val_loss: 0.2512 - val_acc: 0.8978\n",
      "0.8523391812865497\n",
      "0\n",
      "274/9 [=================================================================================================================================================================================================================================================================================================================================================================================================================================================================================================================================================================================================================================================================================================================================================================================================================================================================================================================================================] - 0s 595us/sample - loss: 0.2028 - acc: 0.8942\n",
      "9/9 [==============================] - 3s 315ms/step - loss: 0.3116 - acc: 0.8885 - val_loss: 0.2684 - val_acc: 0.8942\n",
      "0.8450292397660819\n",
      "1\n",
      "274/9 [=================================================================================================================================================================================================================================================================================================================================================================================================================================================================================================================================================================================================================================================================================================================================================================================================================================================================================================================================================] - 0s 608us/sample - loss: 0.1995 - acc: 0.8978\n",
      "9/9 [==============================] - 3s 297ms/step - loss: 0.3004 - acc: 0.8821 - val_loss: 0.2693 - val_acc: 0.8978\n",
      "0.847953216374269\n",
      "2\n",
      "274/9 [=================================================================================================================================================================================================================================================================================================================================================================================================================================================================================================================================================================================================================================================================================================================================================================================================================================================================================================================================================] - 0s 692us/sample - loss: 0.2702 - acc: 0.8978\n",
      "9/9 [==============================] - 3s 292ms/step - loss: 0.2949 - acc: 0.8958 - val_loss: 0.3118 - val_acc: 0.8978\n",
      "0.8538011695906432\n",
      "3\n",
      "274/9 [=================================================================================================================================================================================================================================================================================================================================================================================================================================================================================================================================================================================================================================================================================================================================================================================================================================================================================================================================================] - 0s 624us/sample - loss: 0.1991 - acc: 0.8905\n"
     ]
    },
    {
     "name": "stdout",
     "output_type": "stream",
     "text": [
      "9/9 [==============================] - 3s 291ms/step - loss: 0.3103 - acc: 0.8793 - val_loss: 0.2732 - val_acc: 0.8905\n",
      "0.8494152046783626\n",
      "4\n",
      "274/9 [=================================================================================================================================================================================================================================================================================================================================================================================================================================================================================================================================================================================================================================================================================================================================================================================================================================================================================================================================================] - 0s 653us/sample - loss: 0.1859 - acc: 0.8942\n",
      "9/9 [==============================] - 3s 288ms/step - loss: 0.3114 - acc: 0.8876 - val_loss: 0.2685 - val_acc: 0.8942\n",
      "0.8421052631578947\n",
      "5\n",
      "274/9 [=================================================================================================================================================================================================================================================================================================================================================================================================================================================================================================================================================================================================================================================================================================================================================================================================================================================================================================================================================] - 0s 733us/sample - loss: 0.1970 - acc: 0.8978\n",
      "9/9 [==============================] - 3s 293ms/step - loss: 0.3084 - acc: 0.8848 - val_loss: 0.2663 - val_acc: 0.8978\n",
      "0.8464912280701754\n",
      "6\n",
      "274/9 [=================================================================================================================================================================================================================================================================================================================================================================================================================================================================================================================================================================================================================================================================================================================================================================================================================================================================================================================================================] - 0s 651us/sample - loss: 0.1872 - acc: 0.8905\n",
      "9/9 [==============================] - 3s 306ms/step - loss: 0.3135 - acc: 0.8912 - val_loss: 0.2556 - val_acc: 0.8905\n",
      "0.8596491228070176\n",
      "7\n",
      "274/9 [=================================================================================================================================================================================================================================================================================================================================================================================================================================================================================================================================================================================================================================================================================================================================================================================================================================================================================================================================================] - 0s 635us/sample - loss: 0.1832 - acc: 0.8905\n",
      "9/9 [==============================] - 3s 299ms/step - loss: 0.2892 - acc: 0.8949 - val_loss: 0.2686 - val_acc: 0.8905\n",
      "0.8494152046783626\n",
      "8\n",
      "274/9 [=================================================================================================================================================================================================================================================================================================================================================================================================================================================================================================================================================================================================================================================================================================================================================================================================================================================================================================================================================] - 0s 554us/sample - loss: 0.1862 - acc: 0.8978\n",
      "9/9 [==============================] - 3s 292ms/step - loss: 0.3009 - acc: 0.8812 - val_loss: 0.2497 - val_acc: 0.8978\n",
      "0.8523391812865497\n",
      "0\n",
      "274/9 [=================================================================================================================================================================================================================================================================================================================================================================================================================================================================================================================================================================================================================================================================================================================================================================================================================================================================================================================================================] - 0s 712us/sample - loss: 0.2633 - acc: 0.8978\n",
      "9/9 [==============================] - 3s 297ms/step - loss: 0.2917 - acc: 0.9004 - val_loss: 0.3108 - val_acc: 0.8978\n",
      "0.847953216374269\n",
      "1\n",
      "274/9 [=================================================================================================================================================================================================================================================================================================================================================================================================================================================================================================================================================================================================================================================================================================================================================================================================================================================================================================================================================] - 0s 592us/sample - loss: 0.1879 - acc: 0.8942\n",
      "9/9 [==============================] - 3s 292ms/step - loss: 0.3003 - acc: 0.8958 - val_loss: 0.2530 - val_acc: 0.8942\n",
      "0.8581871345029239\n",
      "2\n",
      "274/9 [=================================================================================================================================================================================================================================================================================================================================================================================================================================================================================================================================================================================================================================================================================================================================================================================================================================================================================================================================================] - 0s 627us/sample - loss: 0.2188 - acc: 0.8905\n"
     ]
    },
    {
     "name": "stdout",
     "output_type": "stream",
     "text": [
      "9/9 [==============================] - 3s 281ms/step - loss: 0.3211 - acc: 0.8848 - val_loss: 0.2679 - val_acc: 0.8905\n",
      "0.8552631578947368\n",
      "3\n",
      "274/9 [=================================================================================================================================================================================================================================================================================================================================================================================================================================================================================================================================================================================================================================================================================================================================================================================================================================================================================================================================================] - 0s 614us/sample - loss: 0.1709 - acc: 0.9015\n",
      "9/9 [==============================] - 3s 290ms/step - loss: 0.3075 - acc: 0.8894 - val_loss: 0.2434 - val_acc: 0.9015\n",
      "0.8508771929824561\n",
      "0\n",
      "274/9 [=================================================================================================================================================================================================================================================================================================================================================================================================================================================================================================================================================================================================================================================================================================================================================================================================================================================================================================================================================] - 0s 710us/sample - loss: 0.1844 - acc: 0.8942\n",
      "9/9 [==============================] - 3s 313ms/step - loss: 0.3142 - acc: 0.8867 - val_loss: 0.2461 - val_acc: 0.8942\n",
      "0.8611111111111112\n",
      "1\n",
      "274/9 [=================================================================================================================================================================================================================================================================================================================================================================================================================================================================================================================================================================================================================================================================================================================================================================================================================================================================================================================================================] - 0s 513us/sample - loss: 0.2017 - acc: 0.8869\n",
      "9/9 [==============================] - 3s 284ms/step - loss: 0.3071 - acc: 0.8894 - val_loss: 0.2510 - val_acc: 0.8869\n",
      "0.8713450292397661\n",
      "2\n",
      "274/9 [=================================================================================================================================================================================================================================================================================================================================================================================================================================================================================================================================================================================================================================================================================================================================================================================================================================================================================================================================================] - 0s 666us/sample - loss: 0.1925 - acc: 0.8905\n",
      "9/9 [==============================] - 3s 311ms/step - loss: 0.2900 - acc: 0.8985 - val_loss: 0.2535 - val_acc: 0.8905\n",
      "0.8654970760233918\n",
      "3\n",
      "274/9 [=================================================================================================================================================================================================================================================================================================================================================================================================================================================================================================================================================================================================================================================================================================================================================================================================================================================================================================================================================] - 0s 654us/sample - loss: 0.1775 - acc: 0.9015\n",
      "9/9 [==============================] - 3s 298ms/step - loss: 0.2851 - acc: 0.8885 - val_loss: 0.2445 - val_acc: 0.9015\n",
      "0.8581871345029239\n",
      "4\n",
      "274/9 [=================================================================================================================================================================================================================================================================================================================================================================================================================================================================================================================================================================================================================================================================================================================================================================================================================================================================================================================================================] - 0s 651us/sample - loss: 0.1904 - acc: 0.8869\n",
      "9/9 [==============================] - 3s 312ms/step - loss: 0.2924 - acc: 0.9031 - val_loss: 0.2513 - val_acc: 0.8869\n",
      "0.8494152046783626\n",
      "5\n",
      "274/9 [=================================================================================================================================================================================================================================================================================================================================================================================================================================================================================================================================================================================================================================================================================================================================================================================================================================================================================================================================================] - 0s 700us/sample - loss: 0.2754 - acc: 0.8942\n",
      "9/9 [==============================] - 3s 293ms/step - loss: 0.3056 - acc: 0.8793 - val_loss: 0.3134 - val_acc: 0.8942\n",
      "0.8464912280701754\n",
      "6\n",
      "274/9 [=================================================================================================================================================================================================================================================================================================================================================================================================================================================================================================================================================================================================================================================================================================================================================================================================================================================================================================================================================] - 0s 621us/sample - loss: 0.1887 - acc: 0.8942\n"
     ]
    },
    {
     "name": "stdout",
     "output_type": "stream",
     "text": [
      "9/9 [==============================] - 3s 295ms/step - loss: 0.2652 - acc: 0.9049 - val_loss: 0.2530 - val_acc: 0.8942\n",
      "0.8552631578947368\n",
      "7\n",
      "274/9 [=================================================================================================================================================================================================================================================================================================================================================================================================================================================================================================================================================================================================================================================================================================================================================================================================================================================================================================================================================] - 0s 646us/sample - loss: 0.1859 - acc: 0.8978\n",
      "9/9 [==============================] - 3s 299ms/step - loss: 0.2997 - acc: 0.8867 - val_loss: 0.2519 - val_acc: 0.8978\n",
      "0.847953216374269\n",
      "8\n",
      "274/9 [=================================================================================================================================================================================================================================================================================================================================================================================================================================================================================================================================================================================================================================================================================================================================================================================================================================================================================================================================================] - 0s 629us/sample - loss: 0.1803 - acc: 0.9015\n",
      "9/9 [==============================] - 3s 296ms/step - loss: 0.2924 - acc: 0.8967 - val_loss: 0.2470 - val_acc: 0.9015\n",
      "0.8552631578947368\n",
      "9\n",
      "274/9 [=================================================================================================================================================================================================================================================================================================================================================================================================================================================================================================================================================================================================================================================================================================================================================================================================================================================================================================================================================] - 0s 604us/sample - loss: 0.2630 - acc: 0.9015\n",
      "9/9 [==============================] - 3s 310ms/step - loss: 0.3092 - acc: 0.8848 - val_loss: 0.3046 - val_acc: 0.9015\n",
      "0.8508771929824561\n",
      "10\n",
      "274/9 [=================================================================================================================================================================================================================================================================================================================================================================================================================================================================================================================================================================================================================================================================================================================================================================================================================================================================================================================================================] - 0s 622us/sample - loss: 0.1974 - acc: 0.8978\n",
      "9/9 [==============================] - 3s 291ms/step - loss: 0.3088 - acc: 0.8803 - val_loss: 0.2526 - val_acc: 0.8978\n",
      "0.8552631578947368\n",
      "11\n",
      "274/9 [=================================================================================================================================================================================================================================================================================================================================================================================================================================================================================================================================================================================================================================================================================================================================================================================================================================================================================================================================================] - 0s 658us/sample - loss: 0.2052 - acc: 0.9051\n",
      "9/9 [==============================] - 3s 301ms/step - loss: 0.3126 - acc: 0.8748 - val_loss: 0.2577 - val_acc: 0.9051\n",
      "0.8567251461988304\n",
      "12\n",
      "274/9 [=================================================================================================================================================================================================================================================================================================================================================================================================================================================================================================================================================================================================================================================================================================================================================================================================================================================================================================================================================] - 0s 578us/sample - loss: 0.2165 - acc: 0.8832\n",
      "9/9 [==============================] - 3s 297ms/step - loss: 0.2945 - acc: 0.8903 - val_loss: 0.2637 - val_acc: 0.8832\n",
      "0.8523391812865497\n",
      "13\n",
      "274/9 [=================================================================================================================================================================================================================================================================================================================================================================================================================================================================================================================================================================================================================================================================================================================================================================================================================================================================================================================================================] - 0s 611us/sample - loss: 0.1839 - acc: 0.9015\n",
      "9/9 [==============================] - 3s 292ms/step - loss: 0.2988 - acc: 0.8894 - val_loss: 0.2435 - val_acc: 0.9015\n",
      "0.8596491228070176\n",
      "14\n",
      "274/9 [=================================================================================================================================================================================================================================================================================================================================================================================================================================================================================================================================================================================================================================================================================================================================================================================================================================================================================================================================================] - 0s 805us/sample - loss: 0.1805 - acc: 0.9015\n"
     ]
    },
    {
     "name": "stdout",
     "output_type": "stream",
     "text": [
      "9/9 [==============================] - 3s 313ms/step - loss: 0.2767 - acc: 0.9068 - val_loss: 0.2585 - val_acc: 0.9015\n",
      "0.8464912280701754\n",
      "15\n",
      "274/9 [=================================================================================================================================================================================================================================================================================================================================================================================================================================================================================================================================================================================================================================================================================================================================================================================================================================================================================================================================================] - 0s 649us/sample - loss: 0.1967 - acc: 0.8978\n",
      "9/9 [==============================] - 3s 278ms/step - loss: 0.2857 - acc: 0.8995 - val_loss: 0.2492 - val_acc: 0.8978\n",
      "0.8654970760233918\n",
      "16\n",
      "274/9 [=================================================================================================================================================================================================================================================================================================================================================================================================================================================================================================================================================================================================================================================================================================================================================================================================================================================================================================================================================] - 0s 709us/sample - loss: 0.1966 - acc: 0.8978\n",
      "9/9 [==============================] - 3s 289ms/step - loss: 0.2839 - acc: 0.8885 - val_loss: 0.2528 - val_acc: 0.8978\n",
      "0.8596491228070176\n",
      "17\n",
      "274/9 [=================================================================================================================================================================================================================================================================================================================================================================================================================================================================================================================================================================================================================================================================================================================================================================================================================================================================================================================================================] - 0s 605us/sample - loss: 0.2133 - acc: 0.8796\n",
      "9/9 [==============================] - 3s 309ms/step - loss: 0.2839 - acc: 0.8931 - val_loss: 0.2876 - val_acc: 0.8796\n",
      "0.847953216374269\n",
      "18\n",
      "274/9 [=================================================================================================================================================================================================================================================================================================================================================================================================================================================================================================================================================================================================================================================================================================================================================================================================================================================================================================================================================] - 0s 709us/sample - loss: 0.2094 - acc: 0.8796\n",
      "9/9 [==============================] - 3s 307ms/step - loss: 0.2834 - acc: 0.8912 - val_loss: 0.2600 - val_acc: 0.8796\n",
      "0.8581871345029239\n",
      "19\n",
      "274/9 [=================================================================================================================================================================================================================================================================================================================================================================================================================================================================================================================================================================================================================================================================================================================================================================================================================================================================================================================================================] - 0s 630us/sample - loss: 0.2474 - acc: 0.8686\n",
      "9/9 [==============================] - 3s 303ms/step - loss: 0.2949 - acc: 0.8921 - val_loss: 0.2923 - val_acc: 0.8686\n",
      "0.8435672514619883\n",
      "20\n",
      "274/9 [=================================================================================================================================================================================================================================================================================================================================================================================================================================================================================================================================================================================================================================================================================================================================================================================================================================================================================================================================================] - 0s 639us/sample - loss: 0.1894 - acc: 0.9051\n",
      "9/9 [==============================] - 3s 297ms/step - loss: 0.2932 - acc: 0.8995 - val_loss: 0.2510 - val_acc: 0.9051\n",
      "0.847953216374269\n",
      "21\n",
      "274/9 [=================================================================================================================================================================================================================================================================================================================================================================================================================================================================================================================================================================================================================================================================================================================================================================================================================================================================================================================================================] - 0s 708us/sample - loss: 0.2420 - acc: 0.8942\n",
      "9/9 [==============================] - 3s 303ms/step - loss: 0.2733 - acc: 0.8967 - val_loss: 0.2881 - val_acc: 0.8942\n",
      "0.8596491228070176\n",
      "22\n",
      "274/9 [=================================================================================================================================================================================================================================================================================================================================================================================================================================================================================================================================================================================================================================================================================================================================================================================================================================================================================================================================================] - 0s 705us/sample - loss: 0.1827 - acc: 0.9015\n"
     ]
    },
    {
     "name": "stdout",
     "output_type": "stream",
     "text": [
      "9/9 [==============================] - 3s 313ms/step - loss: 0.2884 - acc: 0.8985 - val_loss: 0.2438 - val_acc: 0.9015\n",
      "0.8611111111111112\n",
      "23\n",
      "274/9 [=================================================================================================================================================================================================================================================================================================================================================================================================================================================================================================================================================================================================================================================================================================================================================================================================================================================================================================================================================] - 0s 767us/sample - loss: 0.1889 - acc: 0.8942\n",
      "9/9 [==============================] - 3s 297ms/step - loss: 0.2771 - acc: 0.9013 - val_loss: 0.2530 - val_acc: 0.8942\n",
      "0.847953216374269\n",
      "24\n",
      "274/9 [=================================================================================================================================================================================================================================================================================================================================================================================================================================================================================================================================================================================================================================================================================================================================================================================================================================================================================================================================================] - 0s 612us/sample - loss: 0.1963 - acc: 0.8796\n",
      "9/9 [==============================] - 3s 293ms/step - loss: 0.2724 - acc: 0.9059 - val_loss: 0.2573 - val_acc: 0.8796\n",
      "0.8625730994152047\n",
      "25\n",
      "274/9 [=================================================================================================================================================================================================================================================================================================================================================================================================================================================================================================================================================================================================================================================================================================================================================================================================================================================================================================================================================] - 0s 638us/sample - loss: 0.1798 - acc: 0.9015\n",
      "9/9 [==============================] - 3s 300ms/step - loss: 0.2731 - acc: 0.8921 - val_loss: 0.2410 - val_acc: 0.9015\n",
      "0.8625730994152047\n",
      "0\n",
      "274/9 [=================================================================================================================================================================================================================================================================================================================================================================================================================================================================================================================================================================================================================================================================================================================================================================================================================================================================================================================================================] - 0s 618us/sample - loss: 0.1960 - acc: 0.8905\n",
      "9/9 [==============================] - 3s 303ms/step - loss: 0.2662 - acc: 0.8995 - val_loss: 0.2496 - val_acc: 0.8905\n",
      "0.8596491228070176\n",
      "1\n",
      "274/9 [=================================================================================================================================================================================================================================================================================================================================================================================================================================================================================================================================================================================================================================================================================================================================================================================================================================================================================================================================================] - 0s 596us/sample - loss: 0.1822 - acc: 0.8942\n",
      "9/9 [==============================] - 3s 305ms/step - loss: 0.2860 - acc: 0.9013 - val_loss: 0.2400 - val_acc: 0.8942\n",
      "0.8494152046783626\n",
      "2\n",
      "274/9 [=================================================================================================================================================================================================================================================================================================================================================================================================================================================================================================================================================================================================================================================================================================================================================================================================================================================================================================================================================] - 0s 598us/sample - loss: 0.1841 - acc: 0.9015\n",
      "9/9 [==============================] - 3s 287ms/step - loss: 0.2724 - acc: 0.8985 - val_loss: 0.2467 - val_acc: 0.9015\n",
      "0.8654970760233918\n",
      "3\n",
      "274/9 [=================================================================================================================================================================================================================================================================================================================================================================================================================================================================================================================================================================================================================================================================================================================================================================================================================================================================================================================================================] - 0s 620us/sample - loss: 0.1911 - acc: 0.8978\n",
      "9/9 [==============================] - 3s 294ms/step - loss: 0.2795 - acc: 0.9049 - val_loss: 0.2508 - val_acc: 0.8978\n",
      "0.8713450292397661\n",
      "4\n",
      "274/9 [=================================================================================================================================================================================================================================================================================================================================================================================================================================================================================================================================================================================================================================================================================================================================================================================================================================================================================================================================================] - 0s 635us/sample - loss: 0.2182 - acc: 0.8796\n"
     ]
    },
    {
     "name": "stdout",
     "output_type": "stream",
     "text": [
      "9/9 [==============================] - 3s 303ms/step - loss: 0.2763 - acc: 0.8967 - val_loss: 0.2658 - val_acc: 0.8796\n",
      "0.8552631578947368\n",
      "5\n",
      "274/9 [=================================================================================================================================================================================================================================================================================================================================================================================================================================================================================================================================================================================================================================================================================================================================================================================================================================================================================================================================================] - 0s 542us/sample - loss: 0.1963 - acc: 0.8869\n",
      "9/9 [==============================] - 3s 288ms/step - loss: 0.2714 - acc: 0.9049 - val_loss: 0.2562 - val_acc: 0.8869\n",
      "0.8567251461988304\n",
      "6\n",
      "274/9 [=================================================================================================================================================================================================================================================================================================================================================================================================================================================================================================================================================================================================================================================================================================================================================================================================================================================================================================================================================] - 0s 610us/sample - loss: 0.2769 - acc: 0.8942\n",
      "9/9 [==============================] - 3s 287ms/step - loss: 0.2706 - acc: 0.9004 - val_loss: 0.3290 - val_acc: 0.8942\n",
      "0.8538011695906432\n",
      "7\n",
      "274/9 [=================================================================================================================================================================================================================================================================================================================================================================================================================================================================================================================================================================================================================================================================================================================================================================================================================================================================================================================================================] - 0s 620us/sample - loss: 0.1976 - acc: 0.8832\n",
      "9/9 [==============================] - 3s 288ms/step - loss: 0.2625 - acc: 0.9004 - val_loss: 0.2586 - val_acc: 0.8832\n",
      "0.8669590643274854\n",
      "8\n",
      "274/9 [=================================================================================================================================================================================================================================================================================================================================================================================================================================================================================================================================================================================================================================================================================================================================================================================================================================================================================================================================================] - 0s 691us/sample - loss: 0.2045 - acc: 0.8905\n",
      "9/9 [==============================] - 3s 291ms/step - loss: 0.2810 - acc: 0.8976 - val_loss: 0.2588 - val_acc: 0.8905\n",
      "0.8654970760233918\n",
      "9\n",
      "274/9 [=================================================================================================================================================================================================================================================================================================================================================================================================================================================================================================================================================================================================================================================================================================================================================================================================================================================================================================================================================] - 0s 600us/sample - loss: 0.1790 - acc: 0.9051\n",
      "9/9 [==============================] - 3s 296ms/step - loss: 0.2801 - acc: 0.8995 - val_loss: 0.2483 - val_acc: 0.9051\n",
      "0.8508771929824561\n",
      "10\n",
      "274/9 [=================================================================================================================================================================================================================================================================================================================================================================================================================================================================================================================================================================================================================================================================================================================================================================================================================================================================================================================================================] - 0s 649us/sample - loss: 0.1905 - acc: 0.9124\n",
      "9/9 [==============================] - 3s 292ms/step - loss: 0.2672 - acc: 0.9013 - val_loss: 0.2551 - val_acc: 0.9124\n",
      "0.8508771929824561\n",
      "11\n",
      "274/9 [=================================================================================================================================================================================================================================================================================================================================================================================================================================================================================================================================================================================================================================================================================================================================================================================================================================================================================================================================================] - 0s 617us/sample - loss: 0.1994 - acc: 0.8905\n",
      "9/9 [==============================] - 3s 288ms/step - loss: 0.2638 - acc: 0.9031 - val_loss: 0.2627 - val_acc: 0.8905\n",
      "0.8552631578947368\n",
      "12\n",
      "274/9 [=================================================================================================================================================================================================================================================================================================================================================================================================================================================================================================================================================================================================================================================================================================================================================================================================================================================================================================================================================] - 0s 594us/sample - loss: 0.2016 - acc: 0.9015\n"
     ]
    },
    {
     "name": "stdout",
     "output_type": "stream",
     "text": [
      "9/9 [==============================] - 3s 305ms/step - loss: 0.2833 - acc: 0.9068 - val_loss: 0.2523 - val_acc: 0.9015\n",
      "0.8596491228070176\n",
      "13\n",
      "274/9 [=================================================================================================================================================================================================================================================================================================================================================================================================================================================================================================================================================================================================================================================================================================================================================================================================================================================================================================================================================] - 0s 708us/sample - loss: 0.2446 - acc: 0.8942\n",
      "9/9 [==============================] - 3s 299ms/step - loss: 0.2847 - acc: 0.8885 - val_loss: 0.2904 - val_acc: 0.8942\n",
      "0.8611111111111112\n",
      "14\n",
      "274/9 [=================================================================================================================================================================================================================================================================================================================================================================================================================================================================================================================================================================================================================================================================================================================================================================================================================================================================================================================================================] - 0s 681us/sample - loss: 0.1768 - acc: 0.9015\n",
      "9/9 [==============================] - 3s 290ms/step - loss: 0.2732 - acc: 0.9068 - val_loss: 0.2401 - val_acc: 0.9015\n",
      "0.8538011695906432\n",
      "15\n",
      "274/9 [=================================================================================================================================================================================================================================================================================================================================================================================================================================================================================================================================================================================================================================================================================================================================================================================================================================================================================================================================================] - 0s 636us/sample - loss: 0.1868 - acc: 0.9088\n",
      "9/9 [==============================] - 3s 288ms/step - loss: 0.2723 - acc: 0.8985 - val_loss: 0.2573 - val_acc: 0.9088\n",
      "0.8552631578947368\n",
      "16\n",
      "274/9 [=================================================================================================================================================================================================================================================================================================================================================================================================================================================================================================================================================================================================================================================================================================================================================================================================================================================================================================================================================] - 0s 556us/sample - loss: 0.1564 - acc: 0.9088\n",
      "9/9 [==============================] - 3s 293ms/step - loss: 0.2730 - acc: 0.9059 - val_loss: 0.2244 - val_acc: 0.9088\n",
      "0.8552631578947368\n",
      "0\n",
      "274/9 [=================================================================================================================================================================================================================================================================================================================================================================================================================================================================================================================================================================================================================================================================================================================================================================================================================================================================================================================================================] - 0s 650us/sample - loss: 0.1806 - acc: 0.8869\n",
      "9/9 [==============================] - 3s 296ms/step - loss: 0.2407 - acc: 0.9141 - val_loss: 0.2439 - val_acc: 0.8869\n",
      "0.8567251461988304\n",
      "1\n",
      "274/9 [=================================================================================================================================================================================================================================================================================================================================================================================================================================================================================================================================================================================================================================================================================================================================================================================================================================================================================================================================================] - 0s 642us/sample - loss: 0.1840 - acc: 0.9088\n",
      "9/9 [==============================] - 3s 290ms/step - loss: 0.2413 - acc: 0.9013 - val_loss: 0.2420 - val_acc: 0.9088\n",
      "0.8669590643274854\n",
      "2\n",
      "274/9 [=================================================================================================================================================================================================================================================================================================================================================================================================================================================================================================================================================================================================================================================================================================================================================================================================================================================================================================================================================] - 0s 704us/sample - loss: 0.1773 - acc: 0.8978\n",
      "9/9 [==============================] - 3s 293ms/step - loss: 0.2471 - acc: 0.9132 - val_loss: 0.2367 - val_acc: 0.8978\n",
      "0.8698830409356725\n",
      "3\n",
      "274/9 [=================================================================================================================================================================================================================================================================================================================================================================================================================================================================================================================================================================================================================================================================================================================================================================================================================================================================================================================================================] - 0s 815us/sample - loss: 0.2514 - acc: 0.9124\n"
     ]
    },
    {
     "name": "stdout",
     "output_type": "stream",
     "text": [
      "9/9 [==============================] - 3s 298ms/step - loss: 0.2778 - acc: 0.8985 - val_loss: 0.2979 - val_acc: 0.9124\n",
      "0.8611111111111112\n",
      "4\n",
      "274/9 [=================================================================================================================================================================================================================================================================================================================================================================================================================================================================================================================================================================================================================================================================================================================================================================================================================================================================================================================================================] - 0s 568us/sample - loss: 0.1842 - acc: 0.8978\n",
      "9/9 [==============================] - 3s 292ms/step - loss: 0.2523 - acc: 0.9068 - val_loss: 0.2464 - val_acc: 0.8978\n",
      "0.8625730994152047\n",
      "5\n",
      "274/9 [=================================================================================================================================================================================================================================================================================================================================================================================================================================================================================================================================================================================================================================================================================================================================================================================================================================================================================================================================================] - 0s 671us/sample - loss: 0.1749 - acc: 0.9015\n",
      "9/9 [==============================] - 3s 291ms/step - loss: 0.2696 - acc: 0.9004 - val_loss: 0.2407 - val_acc: 0.9015\n",
      "0.868421052631579\n",
      "6\n",
      "274/9 [=================================================================================================================================================================================================================================================================================================================================================================================================================================================================================================================================================================================================================================================================================================================================================================================================================================================================================================================================================] - 0s 707us/sample - loss: 0.1890 - acc: 0.8832\n",
      "9/9 [==============================] - 3s 301ms/step - loss: 0.2675 - acc: 0.9022 - val_loss: 0.2514 - val_acc: 0.8832\n",
      "0.8625730994152047\n",
      "7\n",
      "274/9 [=================================================================================================================================================================================================================================================================================================================================================================================================================================================================================================================================================================================================================================================================================================================================================================================================================================================================================================================================================] - 0s 588us/sample - loss: 0.1652 - acc: 0.9015\n",
      "9/9 [==============================] - 3s 289ms/step - loss: 0.2691 - acc: 0.8985 - val_loss: 0.2320 - val_acc: 0.9015\n",
      "0.8552631578947368\n",
      "8\n",
      "274/9 [=================================================================================================================================================================================================================================================================================================================================================================================================================================================================================================================================================================================================================================================================================================================================================================================================================================================================================================================================================] - 0s 659us/sample - loss: 0.1724 - acc: 0.9124\n",
      "9/9 [==============================] - 3s 296ms/step - loss: 0.2593 - acc: 0.8967 - val_loss: 0.2410 - val_acc: 0.9124\n",
      "0.8611111111111112\n",
      "9\n",
      "274/9 [=================================================================================================================================================================================================================================================================================================================================================================================================================================================================================================================================================================================================================================================================================================================================================================================================================================================================================================================================================] - 0s 638us/sample - loss: 0.1799 - acc: 0.9088\n",
      "9/9 [==============================] - 3s 292ms/step - loss: 0.2299 - acc: 0.9122 - val_loss: 0.2386 - val_acc: 0.9088\n",
      "0.8654970760233918\n",
      "10\n",
      "274/9 [=================================================================================================================================================================================================================================================================================================================================================================================================================================================================================================================================================================================================================================================================================================================================================================================================================================================================================================================================================] - 0s 659us/sample - loss: 0.2474 - acc: 0.9051\n",
      "9/9 [==============================] - 3s 306ms/step - loss: 0.2596 - acc: 0.9004 - val_loss: 0.2927 - val_acc: 0.9051\n",
      "0.8625730994152047\n",
      "11\n",
      "274/9 [=================================================================================================================================================================================================================================================================================================================================================================================================================================================================================================================================================================================================================================================================================================================================================================================================================================================================================================================================================] - 0s 572us/sample - loss: 0.1775 - acc: 0.9015\n"
     ]
    },
    {
     "name": "stdout",
     "output_type": "stream",
     "text": [
      "9/9 [==============================] - 3s 296ms/step - loss: 0.2638 - acc: 0.8995 - val_loss: 0.2405 - val_acc: 0.9015\n",
      "0.8654970760233918\n",
      "12\n",
      "274/9 [=================================================================================================================================================================================================================================================================================================================================================================================================================================================================================================================================================================================================================================================================================================================================================================================================================================================================================================================================================] - 0s 580us/sample - loss: 0.1919 - acc: 0.8978\n",
      "9/9 [==============================] - 3s 294ms/step - loss: 0.2490 - acc: 0.9013 - val_loss: 0.2458 - val_acc: 0.8978\n",
      "0.8640350877192983\n",
      "13\n",
      "274/9 [=================================================================================================================================================================================================================================================================================================================================================================================================================================================================================================================================================================================================================================================================================================================================================================================================================================================================================================================================================] - 0s 609us/sample - loss: 0.1980 - acc: 0.8978\n",
      "9/9 [==============================] - 3s 303ms/step - loss: 0.2621 - acc: 0.8958 - val_loss: 0.2738 - val_acc: 0.8978\n",
      "0.847953216374269\n",
      "14\n",
      "274/9 [=================================================================================================================================================================================================================================================================================================================================================================================================================================================================================================================================================================================================================================================================================================================================================================================================================================================================================================================================================] - 0s 595us/sample - loss: 0.1956 - acc: 0.9015\n",
      "9/9 [==============================] - 3s 298ms/step - loss: 0.2684 - acc: 0.9031 - val_loss: 0.2560 - val_acc: 0.9015\n",
      "0.8523391812865497\n",
      "15\n",
      "274/9 [=================================================================================================================================================================================================================================================================================================================================================================================================================================================================================================================================================================================================================================================================================================================================================================================================================================================================================================================================================] - 0s 653us/sample - loss: 0.1720 - acc: 0.9051\n",
      "9/9 [==============================] - 3s 295ms/step - loss: 0.2591 - acc: 0.9031 - val_loss: 0.2467 - val_acc: 0.9051\n",
      "0.8581871345029239\n",
      "16\n",
      "274/9 [=================================================================================================================================================================================================================================================================================================================================================================================================================================================================================================================================================================================================================================================================================================================================================================================================================================================================================================================================================] - 0s 684us/sample - loss: 0.1924 - acc: 0.9015\n",
      "9/9 [==============================] - 3s 296ms/step - loss: 0.2424 - acc: 0.9104 - val_loss: 0.2515 - val_acc: 0.9015\n",
      "0.8611111111111112\n",
      "17\n",
      "274/9 [=================================================================================================================================================================================================================================================================================================================================================================================================================================================================================================================================================================================================================================================================================================================================================================================================================================================================================================================================================] - 0s 617us/sample - loss: 0.1852 - acc: 0.8978\n",
      "9/9 [==============================] - 3s 294ms/step - loss: 0.2503 - acc: 0.9086 - val_loss: 0.2491 - val_acc: 0.8978\n",
      "0.8596491228070176\n",
      "18\n",
      "274/9 [=================================================================================================================================================================================================================================================================================================================================================================================================================================================================================================================================================================================================================================================================================================================================================================================================================================================================================================================================================] - 0s 592us/sample - loss: 0.1888 - acc: 0.9088\n",
      "9/9 [==============================] - 3s 297ms/step - loss: 0.2719 - acc: 0.8985 - val_loss: 0.2431 - val_acc: 0.9088\n",
      "0.8640350877192983\n",
      "19\n",
      "274/9 [=================================================================================================================================================================================================================================================================================================================================================================================================================================================================================================================================================================================================================================================================================================================================================================================================================================================================================================================================================] - 0s 618us/sample - loss: 0.1712 - acc: 0.9051\n"
     ]
    },
    {
     "name": "stdout",
     "output_type": "stream",
     "text": [
      "9/9 [==============================] - 3s 303ms/step - loss: 0.2689 - acc: 0.9068 - val_loss: 0.2266 - val_acc: 0.9051\n",
      "0.8640350877192983\n",
      "20\n",
      "274/9 [=================================================================================================================================================================================================================================================================================================================================================================================================================================================================================================================================================================================================================================================================================================================================================================================================================================================================================================================================================] - 0s 655us/sample - loss: 0.1636 - acc: 0.9124\n",
      "9/9 [==============================] - 3s 299ms/step - loss: 0.2721 - acc: 0.8903 - val_loss: 0.2361 - val_acc: 0.9124\n",
      "0.8552631578947368\n",
      "21\n",
      "274/9 [=================================================================================================================================================================================================================================================================================================================================================================================================================================================================================================================================================================================================================================================================================================================================================================================================================================================================================================================================================] - 0s 561us/sample - loss: 0.1833 - acc: 0.9051\n",
      "9/9 [==============================] - 3s 281ms/step - loss: 0.2777 - acc: 0.8985 - val_loss: 0.2474 - val_acc: 0.9051\n",
      "0.8581871345029239\n",
      "22\n",
      "274/9 [=================================================================================================================================================================================================================================================================================================================================================================================================================================================================================================================================================================================================================================================================================================================================================================================================================================================================================================================================================] - 0s 670us/sample - loss: 0.2130 - acc: 0.9088\n",
      "9/9 [==============================] - 3s 295ms/step - loss: 0.2695 - acc: 0.8967 - val_loss: 0.2547 - val_acc: 0.9088\n",
      "0.8611111111111112\n",
      "23\n",
      "274/9 [=================================================================================================================================================================================================================================================================================================================================================================================================================================================================================================================================================================================================================================================================================================================================================================================================================================================================================================================================================] - 0s 706us/sample - loss: 0.1664 - acc: 0.9161\n",
      "9/9 [==============================] - 3s 310ms/step - loss: 0.2854 - acc: 0.8985 - val_loss: 0.2324 - val_acc: 0.9161\n",
      "0.8523391812865497\n",
      "24\n",
      "274/9 [=================================================================================================================================================================================================================================================================================================================================================================================================================================================================================================================================================================================================================================================================================================================================================================================================================================================================================================================================================] - 0s 647us/sample - loss: 0.2018 - acc: 0.9124\n",
      "9/9 [==============================] - 3s 307ms/step - loss: 0.2425 - acc: 0.9113 - val_loss: 0.2529 - val_acc: 0.9124\n",
      "0.8611111111111112\n",
      "25\n",
      "274/9 [=================================================================================================================================================================================================================================================================================================================================================================================================================================================================================================================================================================================================================================================================================================================================================================================================================================================================================================================================================] - 0s 608us/sample - loss: 0.1714 - acc: 0.9051\n",
      "9/9 [==============================] - 3s 290ms/step - loss: 0.2571 - acc: 0.9059 - val_loss: 0.2464 - val_acc: 0.9051\n",
      "0.8596491228070176\n",
      "26\n",
      "274/9 [=================================================================================================================================================================================================================================================================================================================================================================================================================================================================================================================================================================================================================================================================================================================================================================================================================================================================================================================================================] - 0s 668us/sample - loss: 0.1633 - acc: 0.9124\n",
      "9/9 [==============================] - 3s 289ms/step - loss: 0.2761 - acc: 0.9004 - val_loss: 0.2457 - val_acc: 0.9124\n",
      "0.8508771929824561\n",
      "27\n",
      "274/9 [=================================================================================================================================================================================================================================================================================================================================================================================================================================================================================================================================================================================================================================================================================================================================================================================================================================================================================================================================================] - 0s 617us/sample - loss: 0.1962 - acc: 0.8978\n"
     ]
    },
    {
     "name": "stdout",
     "output_type": "stream",
     "text": [
      "9/9 [==============================] - 3s 298ms/step - loss: 0.2395 - acc: 0.9196 - val_loss: 0.2528 - val_acc: 0.8978\n",
      "0.8654970760233918\n",
      "28\n",
      "274/9 [=================================================================================================================================================================================================================================================================================================================================================================================================================================================================================================================================================================================================================================================================================================================================================================================================================================================================================================================================================] - 0s 549us/sample - loss: 0.1748 - acc: 0.8942\n",
      "9/9 [==============================] - 3s 289ms/step - loss: 0.2516 - acc: 0.9040 - val_loss: 0.2422 - val_acc: 0.8942\n",
      "0.8698830409356725\n",
      "29\n",
      "274/9 [=================================================================================================================================================================================================================================================================================================================================================================================================================================================================================================================================================================================================================================================================================================================================================================================================================================================================================================================================================] - 0s 560us/sample - loss: 0.2670 - acc: 0.9051\n",
      "9/9 [==============================] - 3s 299ms/step - loss: 0.2717 - acc: 0.8995 - val_loss: 0.3197 - val_acc: 0.9051\n",
      "0.8523391812865497\n",
      "30\n",
      "274/9 [=================================================================================================================================================================================================================================================================================================================================================================================================================================================================================================================================================================================================================================================================================================================================================================================================================================================================================================================================================] - 0s 619us/sample - loss: 0.1786 - acc: 0.8978\n",
      "9/9 [==============================] - 3s 291ms/step - loss: 0.2428 - acc: 0.9177 - val_loss: 0.2448 - val_acc: 0.8978\n",
      "0.8611111111111112\n",
      "31\n",
      "Model didn't improve in the last 30 epochs.. break\n"
     ]
    }
   ],
   "source": [
    "bestModelLoss = 9999.0;\n",
    "sensitivity = 0.001\n",
    "lastBestIter = 0;\n",
    "\n",
    "for i in range(1,9999):\n",
    "    hist = model.fit_generator(datagen.flow(X_train, y_train, batch_size=128), epochs=1, validation_data=(X_test, y_test.values))\n",
    "    \n",
    "    predictions = model.predict(X_eval)\n",
    "    classes = np.argmax(predictions, axis=1)\n",
    "    print(np.mean(classes == y_eval))\n",
    "    \n",
    "    valLoss = hist.history['val_loss'][0]\n",
    "    if valLoss < bestModelLoss -  sensitivity:\n",
    "        bestModelLoss = valLoss\n",
    "        lastBestIter = i\n",
    "        model.save('bestModel.h5')\n",
    "    \n",
    "    print(i - lastBestIter)\n",
    "    if i > lastBestIter+30:\n",
    "        print(\"Model didn't improve in the last 30 epochs.. break\")\n",
    "        break;\n",
    "\n",
    "model = load_model('bestModel.h5')"
   ]
  },
  {
   "cell_type": "code",
   "execution_count": 26,
   "metadata": {},
   "outputs": [],
   "source": [
    "predictions = model.predict(X_eval)\n",
    "classes = np.argmax(predictions, axis=1)"
   ]
  },
  {
   "cell_type": "code",
   "execution_count": 27,
   "metadata": {},
   "outputs": [
    {
     "data": {
      "text/plain": [
       "0.8552631578947368"
      ]
     },
     "execution_count": 27,
     "metadata": {},
     "output_type": "execute_result"
    }
   ],
   "source": [
    "np.mean(classes == y_eval)"
   ]
  },
  {
   "cell_type": "markdown",
   "metadata": {},
   "source": [
    "# Misclassified images"
   ]
  },
  {
   "cell_type": "code",
   "execution_count": 28,
   "metadata": {},
   "outputs": [
    {
     "data": {
      "text/plain": [
       "array([[121,  28,   9],\n",
       "       [ 15, 275,   7],\n",
       "       [ 11,  29, 189]])"
      ]
     },
     "execution_count": 28,
     "metadata": {},
     "output_type": "execute_result"
    }
   ],
   "source": [
    "confusion_matrix(y_true=y_eval, y_pred=classes,labels=[0,1,2])"
   ]
  },
  {
   "cell_type": "code",
   "execution_count": 29,
   "metadata": {},
   "outputs": [],
   "source": [
    "true0 = np.where(y_eval == 0)\n",
    "true1 = np.where(y_eval == 1)\n",
    "true2 = np.where(y_eval == 2)\n",
    "class0 = np.where(classes == 0)\n",
    "class1 = np.where(classes == 1)\n",
    "class2 = np.where(classes == 2)"
   ]
  },
  {
   "cell_type": "markdown",
   "metadata": {},
   "source": [
    "### False negative 0 "
   ]
  },
  {
   "cell_type": "code",
   "execution_count": 35,
   "metadata": {},
   "outputs": [],
   "source": [
    "fn0 = np.setdiff1d( true0, class0)\n",
    "fn0 = X_eval[fn0,:]"
   ]
  },
  {
   "cell_type": "code",
   "execution_count": 40,
   "metadata": {},
   "outputs": [
    {
     "data": {
      "image/png": "[encoded data removed]",
      "text/plain": [
       "<Figure size 432x288 with 1 Axes>"
      ]
     },
     "metadata": {
      "needs_background": "light"
     },
     "output_type": "display_data"
    }
   ],
   "source": [
    "import matplotlib.pyplot as plt\n",
    "plt.imshow(fn0[0].reshape(50,50))\n",
    "plt.show()"
   ]
  },
  {
   "cell_type": "code",
   "execution_count": 91,
   "metadata": {},
   "outputs": [
    {
     "data": {
      "image/png": "[encoded data removed]",
      "text/plain": [
       "<Figure size 432x288 with 1 Axes>"
      ]
     },
     "metadata": {
      "needs_background": "light"
     },
     "output_type": "display_data"
    }
   ],
   "source": [
    "plt.imshow(fn0[16].reshape((50,50)))\n",
    "plt.show()"
   ]
  },
  {
   "cell_type": "code",
   "execution_count": 42,
   "metadata": {},
   "outputs": [
    {
     "data": {
      "image/png": "[encoded data removed]",
      "text/plain": [
       "<Figure size 432x288 with 1 Axes>"
      ]
     },
     "metadata": {
      "needs_background": "light"
     },
     "output_type": "display_data"
    }
   ],
   "source": [
    "plt.imshow(fn0[5,:].reshape((50,50)))\n",
    "plt.show()"
   ]
  },
  {
   "cell_type": "markdown",
   "metadata": {},
   "source": [
    "###  False positive 0"
   ]
  },
  {
   "cell_type": "code",
   "execution_count": 43,
   "metadata": {},
   "outputs": [],
   "source": [
    "fp0 = np.setdiff1d(class0, true0)\n",
    "fp0 = X_eval[fp0,:]"
   ]
  },
  {
   "cell_type": "code",
   "execution_count": 47,
   "metadata": {},
   "outputs": [
    {
     "data": {
      "image/png": "[encoded data removed]",
      "text/plain": [
       "<Figure size 432x288 with 1 Axes>"
      ]
     },
     "metadata": {
      "needs_background": "light"
     },
     "output_type": "display_data"
    }
   ],
   "source": [
    "plt.imshow(fp0[0,:].reshape((50,50)))\n",
    "plt.show()"
   ]
  },
  {
   "cell_type": "code",
   "execution_count": 48,
   "metadata": {},
   "outputs": [
    {
     "data": {
      "image/png": "[encoded data removed]",
      "text/plain": [
       "<Figure size 432x288 with 1 Axes>"
      ]
     },
     "metadata": {
      "needs_background": "light"
     },
     "output_type": "display_data"
    }
   ],
   "source": [
    "plt.imshow(fp0[1,:].reshape((50,50)))\n",
    "plt.show()"
   ]
  },
  {
   "cell_type": "code",
   "execution_count": 49,
   "metadata": {},
   "outputs": [
    {
     "data": {
      "image/png": "[encoded data removed]",
      "text/plain": [
       "<Figure size 432x288 with 1 Axes>"
      ]
     },
     "metadata": {
      "needs_background": "light"
     },
     "output_type": "display_data"
    }
   ],
   "source": [
    "plt.imshow(fp0[2,:].reshape((50,50)))\n",
    "plt.show()"
   ]
  },
  {
   "cell_type": "code",
   "execution_count": 50,
   "metadata": {},
   "outputs": [
    {
     "data": {
      "image/png": "[encoded data removed]",
      "text/plain": [
       "<Figure size 432x288 with 1 Axes>"
      ]
     },
     "metadata": {
      "needs_background": "light"
     },
     "output_type": "display_data"
    }
   ],
   "source": [
    "plt.imshow(fp0[3,:].reshape((50,50)))\n",
    "plt.show()"
   ]
  },
  {
   "cell_type": "code",
   "execution_count": 51,
   "metadata": {},
   "outputs": [
    {
     "data": {
      "image/png": "[encoded data removed]",
      "text/plain": [
       "<Figure size 432x288 with 1 Axes>"
      ]
     },
     "metadata": {
      "needs_background": "light"
     },
     "output_type": "display_data"
    }
   ],
   "source": [
    "plt.imshow(fp0[4,:].reshape((50,50)))\n",
    "plt.show()"
   ]
  },
  {
   "cell_type": "code",
   "execution_count": 52,
   "metadata": {},
   "outputs": [
    {
     "data": {
      "image/png": "[encoded data removed]",
      "text/plain": [
       "<Figure size 432x288 with 1 Axes>"
      ]
     },
     "metadata": {
      "needs_background": "light"
     },
     "output_type": "display_data"
    }
   ],
   "source": [
    "plt.imshow(fp0[5,:].reshape((50,50)))\n",
    "plt.show()"
   ]
  },
  {
   "cell_type": "markdown",
   "metadata": {},
   "source": [
    "### False negative 1"
   ]
  },
  {
   "cell_type": "code",
   "execution_count": 53,
   "metadata": {},
   "outputs": [],
   "source": [
    "fn1 = np.setdiff1d( true1, class1)\n",
    "fn1 = X_eval[fn1,:]"
   ]
  },
  {
   "cell_type": "code",
   "execution_count": 54,
   "metadata": {},
   "outputs": [
    {
     "data": {
      "image/png": "[encoded data removed]",
      "text/plain": [
       "<Figure size 432x288 with 1 Axes>"
      ]
     },
     "metadata": {
      "needs_background": "light"
     },
     "output_type": "display_data"
    }
   ],
   "source": [
    "plt.imshow(fn1[0,:].reshape((50,50)))\n",
    "plt.show()"
   ]
  },
  {
   "cell_type": "code",
   "execution_count": 55,
   "metadata": {},
   "outputs": [
    {
     "data": {
      "image/png": "[encoded data removed]",
      "text/plain": [
       "<Figure size 432x288 with 1 Axes>"
      ]
     },
     "metadata": {
      "needs_background": "light"
     },
     "output_type": "display_data"
    }
   ],
   "source": [
    "plt.imshow(fn1[2,:].reshape((50,50)))\n",
    "plt.show()"
   ]
  },
  {
   "cell_type": "code",
   "execution_count": 56,
   "metadata": {},
   "outputs": [
    {
     "data": {
      "image/png": "[encoded data removed]",
      "text/plain": [
       "<Figure size 432x288 with 1 Axes>"
      ]
     },
     "metadata": {
      "needs_background": "light"
     },
     "output_type": "display_data"
    }
   ],
   "source": [
    "plt.imshow(fn1[3,:].reshape((50,50)))\n",
    "plt.show()"
   ]
  },
  {
   "cell_type": "code",
   "execution_count": 57,
   "metadata": {},
   "outputs": [
    {
     "data": {
      "image/png": "[encoded data removed]",
      "text/plain": [
       "<Figure size 432x288 with 1 Axes>"
      ]
     },
     "metadata": {
      "needs_background": "light"
     },
     "output_type": "display_data"
    }
   ],
   "source": [
    "plt.imshow(fn1[4,:].reshape((50,50)))\n",
    "plt.show()"
   ]
  },
  {
   "cell_type": "markdown",
   "metadata": {},
   "source": [
    "### False positive 1"
   ]
  },
  {
   "cell_type": "code",
   "execution_count": 58,
   "metadata": {},
   "outputs": [],
   "source": [
    "fp1 = np.setdiff1d(class1, true1)\n",
    "fp1 = X_eval[fp1,:]"
   ]
  },
  {
   "cell_type": "code",
   "execution_count": 59,
   "metadata": {},
   "outputs": [
    {
     "data": {
      "image/png": "[encoded data removed]",
      "text/plain": [
       "<Figure size 432x288 with 1 Axes>"
      ]
     },
     "metadata": {
      "needs_background": "light"
     },
     "output_type": "display_data"
    }
   ],
   "source": [
    "plt.imshow(fp1[0,:].reshape((50,50)))\n",
    "plt.show()"
   ]
  },
  {
   "cell_type": "code",
   "execution_count": 60,
   "metadata": {},
   "outputs": [
    {
     "data": {
      "image/png": "[encoded data removed]",
      "text/plain": [
       "<Figure size 432x288 with 1 Axes>"
      ]
     },
     "metadata": {
      "needs_background": "light"
     },
     "output_type": "display_data"
    }
   ],
   "source": [
    "plt.imshow(fp1[1,:].reshape((50,50)))\n",
    "plt.show()"
   ]
  },
  {
   "cell_type": "code",
   "execution_count": 61,
   "metadata": {},
   "outputs": [
    {
     "data": {
      "image/png": "[encoded data removed]",
      "text/plain": [
       "<Figure size 432x288 with 1 Axes>"
      ]
     },
     "metadata": {
      "needs_background": "light"
     },
     "output_type": "display_data"
    }
   ],
   "source": [
    "plt.imshow(fp1[2,:].reshape((50,50)))\n",
    "plt.show()"
   ]
  },
  {
   "cell_type": "code",
   "execution_count": 62,
   "metadata": {},
   "outputs": [
    {
     "data": {
      "image/png": "[encoded data removed]",
      "text/plain": [
       "<Figure size 432x288 with 1 Axes>"
      ]
     },
     "metadata": {
      "needs_background": "light"
     },
     "output_type": "display_data"
    }
   ],
   "source": [
    "plt.imshow(fp1[3,:].reshape((50,50)))\n",
    "plt.show()"
   ]
  },
  {
   "cell_type": "code",
   "execution_count": 63,
   "metadata": {},
   "outputs": [
    {
     "data": {
      "image/png": "[encoded data removed]",
      "text/plain": [
       "<Figure size 432x288 with 1 Axes>"
      ]
     },
     "metadata": {
      "needs_background": "light"
     },
     "output_type": "display_data"
    }
   ],
   "source": [
    "plt.imshow(fp1[4,:].reshape((50,50)))\n",
    "plt.show()"
   ]
  },
  {
   "cell_type": "markdown",
   "metadata": {},
   "source": [
    "### False negative 2"
   ]
  },
  {
   "cell_type": "code",
   "execution_count": 64,
   "metadata": {},
   "outputs": [],
   "source": [
    "fn2 = np.setdiff1d(true2, class2)\n",
    "fn2 = X_eval[fn2,:]"
   ]
  },
  {
   "cell_type": "code",
   "execution_count": 65,
   "metadata": {},
   "outputs": [
    {
     "data": {
      "image/png": "[encoded data removed]",
      "text/plain": [
       "<Figure size 432x288 with 1 Axes>"
      ]
     },
     "metadata": {
      "needs_background": "light"
     },
     "output_type": "display_data"
    }
   ],
   "source": [
    "plt.imshow(fn2[0,:].reshape((50,50)))\n",
    "plt.show()"
   ]
  },
  {
   "cell_type": "code",
   "execution_count": 66,
   "metadata": {},
   "outputs": [
    {
     "data": {
      "image/png": "[encoded data removed]",
      "text/plain": [
       "<Figure size 432x288 with 1 Axes>"
      ]
     },
     "metadata": {
      "needs_background": "light"
     },
     "output_type": "display_data"
    }
   ],
   "source": [
    "plt.imshow(fn2[1,:].reshape((50,50)))\n",
    "plt.show()"
   ]
  },
  {
   "cell_type": "code",
   "execution_count": 67,
   "metadata": {},
   "outputs": [
    {
     "data": {
      "image/png": "[encoded data removed]",
      "text/plain": [
       "<Figure size 432x288 with 1 Axes>"
      ]
     },
     "metadata": {
      "needs_background": "light"
     },
     "output_type": "display_data"
    }
   ],
   "source": [
    "plt.imshow(fn2[2,:].reshape((50,50)))\n",
    "plt.show()"
   ]
  },
  {
   "cell_type": "markdown",
   "metadata": {},
   "source": [
    "### False positive 2"
   ]
  },
  {
   "cell_type": "code",
   "execution_count": 68,
   "metadata": {},
   "outputs": [],
   "source": [
    "fp2 = np.setdiff1d(class2, true2)\n",
    "fp2 = X_eval[fp2,:]"
   ]
  },
  {
   "cell_type": "code",
   "execution_count": 69,
   "metadata": {},
   "outputs": [
    {
     "data": {
      "image/png": "[encoded data removed]",
      "text/plain": [
       "<Figure size 432x288 with 1 Axes>"
      ]
     },
     "metadata": {
      "needs_background": "light"
     },
     "output_type": "display_data"
    }
   ],
   "source": [
    "plt.imshow(fp2[0,:].reshape((50,50)))\n",
    "plt.show()"
   ]
  },
  {
   "cell_type": "code",
   "execution_count": 70,
   "metadata": {},
   "outputs": [
    {
     "data": {
      "image/png": "[encoded data removed]",
      "text/plain": [
       "<Figure size 432x288 with 1 Axes>"
      ]
     },
     "metadata": {
      "needs_background": "light"
     },
     "output_type": "display_data"
    }
   ],
   "source": [
    "plt.imshow(fp2[1,:].reshape((50,50)))\n",
    "plt.show()"
   ]
  },
  {
   "cell_type": "code",
   "execution_count": 71,
   "metadata": {},
   "outputs": [
    {
     "data": {
      "image/png": "[encoded data removed]",
      "text/plain": [
       "<Figure size 432x288 with 1 Axes>"
      ]
     },
     "metadata": {
      "needs_background": "light"
     },
     "output_type": "display_data"
    }
   ],
   "source": [
    "plt.imshow(fp2[3,:].reshape((50,50)))\n",
    "plt.show()"
   ]
  },
  {
   "cell_type": "code",
   "execution_count": 72,
   "metadata": {},
   "outputs": [
    {
     "data": {
      "image/png": "[encoded data removed]",
      "text/plain": [
       "<Figure size 432x288 with 1 Axes>"
      ]
     },
     "metadata": {
      "needs_background": "light"
     },
     "output_type": "display_data"
    }
   ],
   "source": [
    "plt.imshow(fp2[4,:].reshape((50,50)))\n",
    "plt.show()"
   ]
  },
  {
   "cell_type": "code",
   "execution_count": null,
   "metadata": {},
   "outputs": [],
   "source": []
  },
  {
   "cell_type": "code",
   "execution_count": null,
   "metadata": {},
   "outputs": [],
   "source": []
  }
 ],
 "metadata": {
  "kernelspec": {
   "display_name": "Python 3",
   "language": "python",
   "name": "python3"
  },
  "language_info": {
   "codemirror_mode": {
    "name": "ipython",
    "version": 3
   },
   "file_extension": ".py",
   "mimetype": "text/x-python",
   "name": "python",
   "nbconvert_exporter": "python",
   "pygments_lexer": "ipython3",
   "version": "3.7.4"
  }
 },
 "nbformat": 4,
 "nbformat_minor": 2
}
